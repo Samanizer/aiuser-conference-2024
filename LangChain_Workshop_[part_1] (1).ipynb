{
  "nbformat": 4,
  "nbformat_minor": 0,
  "metadata": {
    "colab": {
      "provenance": []
    },
    "kernelspec": {
      "name": "python3",
      "display_name": "Python 3"
    },
    "language_info": {
      "name": "python"
    }
  },
  "cells": [
    {
      "cell_type": "code",
      "execution_count": null,
      "metadata": {
        "id": "jh1QlZQ3wVDP"
      },
      "outputs": [],
      "source": [
        "# Installing\n",
        "!pip install -q openai langchain gradio"
      ]
    },
    {
      "cell_type": "code",
      "source": [
        "import os\n",
        "import getpass\n",
        "\n",
        "os.environ[\"OPENAI_API_KEY\"] = getpass.getpass(\"Enter OpenAI API Key\")"
      ],
      "metadata": {
        "id": "PgSJKv7MwimK",
        "colab": {
          "base_uri": "https://localhost:8080/"
        },
        "outputId": "c458e565-7576-4076-feec-8aeee220377f"
      },
      "execution_count": 3,
      "outputs": [
        {
          "name": "stdout",
          "output_type": "stream",
          "text": [
            "Enter OpenAI API Key··········\n"
          ]
        }
      ]
    },
    {
      "cell_type": "code",
      "source": [
        "from langchain.chat_models import ChatOpenAI\n",
        "\n",
        "# Initialize chat model\n",
        "llm = ChatOpenAI(\n",
        "    openai_api_key=os.environ[\"OPENAI_API_KEY\"],\n",
        "    model_name=\"gpt-3.5-turbo\",\n",
        ")"
      ],
      "metadata": {
        "id": "AfebTzfaUwni",
        "colab": {
          "base_uri": "https://localhost:8080/"
        },
        "outputId": "52213ffd-e97e-4f9d-878d-6e2f69f6e9e6"
      },
      "execution_count": 4,
      "outputs": [
        {
          "output_type": "stream",
          "name": "stderr",
          "text": [
            "/usr/local/lib/python3.10/dist-packages/langchain_core/_api/deprecation.py:117: LangChainDeprecationWarning: The class `langchain_community.chat_models.openai.ChatOpenAI` was deprecated in langchain-community 0.0.10 and will be removed in 0.2.0. An updated version of the class exists in the langchain-openai package and should be used instead. To use it run `pip install -U langchain-openai` and import as `from langchain_openai import ChatOpenAI`.\n",
            "  warn_deprecated(\n"
          ]
        }
      ]
    },
    {
      "cell_type": "code",
      "source": [
        "from langchain.prompts import ChatPromptTemplate, MessagesPlaceholder\n",
        "\n",
        "# Define a prompt template\n",
        "template = \"\"\"You are an expert travel consultant. You give specific and thoughtful advice to potential travelers.\"\"\"\n",
        "\n",
        "chat_prompt = ChatPromptTemplate.from_messages(\n",
        "    [\n",
        "        (\"system\", template),\n",
        "        MessagesPlaceholder(variable_name=\"history\"),\n",
        "        (\"human\", \"{input}\"),\n",
        "    ]\n",
        ")"
      ],
      "metadata": {
        "id": "fcAkCPMLU5fn"
      },
      "execution_count": 5,
      "outputs": []
    },
    {
      "cell_type": "code",
      "source": [
        "from langchain.memory import ConversationBufferMemory\n",
        "\n",
        "# Create conversation history store\n",
        "memory = ConversationBufferMemory(memory_key=\"history\", return_messages=True)"
      ],
      "metadata": {
        "id": "LGK1nFeXVBZP"
      },
      "execution_count": 6,
      "outputs": []
    },
    {
      "cell_type": "code",
      "source": [
        "from langchain.schema.runnable import RunnableLambda, RunnablePassthrough\n",
        "from operator import itemgetter\n",
        "\n",
        "# Compose components in a chain using LCEL\n",
        "chain = (\n",
        "    RunnablePassthrough.assign(\n",
        "        history=RunnableLambda(memory.load_memory_variables) | itemgetter(\"history\")\n",
        "    )\n",
        "    | chat_prompt\n",
        "    | llm\n",
        ")"
      ],
      "metadata": {
        "id": "74fgeyisVMfZ"
      },
      "execution_count": 7,
      "outputs": []
    },
    {
      "cell_type": "code",
      "source": [
        "# Response function for ChatInterface\n",
        "def stream_response(input, _):\n",
        "    if input is not None:\n",
        "        partial_message = \"\"\n",
        "        for chunk in chain.stream({\"input\": input}): # LCEL streaming syntax\n",
        "            partial_message += chunk.content\n",
        "            yield partial_message"
      ],
      "metadata": {
        "id": "tcaSL5L-VR-8"
      },
      "execution_count": 8,
      "outputs": []
    },
    {
      "cell_type": "code",
      "source": [
        "import gradio as gr\n",
        "\n",
        "\n",
        "gr.ChatInterface(\n",
        "    stream_response, retry_btn=None, undo_btn=None, clear_btn=None\n",
        ").queue().launch()"
      ],
      "metadata": {
        "id": "vhbBUF9IVdKL",
        "colab": {
          "base_uri": "https://localhost:8080/",
          "height": 647
        },
        "outputId": "bc53a2e2-fce0-43f0-c2be-283efb2be8fb"
      },
      "execution_count": 14,
      "outputs": [
        {
          "output_type": "stream",
          "name": "stdout",
          "text": [
            "Setting queue=True in a Colab notebook requires sharing enabled. Setting `share=True` (you can turn this off by setting `share=False` in `launch()` explicitly).\n",
            "\n",
            "Colab notebook detected. To show errors in colab notebook, set debug=True in launch()\n",
            "Running on public URL: https://9756c5824adc686d1c.gradio.live\n",
            "\n",
            "This share link expires in 72 hours. For free permanent hosting and GPU upgrades, run `gradio deploy` from Terminal to deploy to Spaces (https://huggingface.co/spaces)\n"
          ]
        },
        {
          "output_type": "display_data",
          "data": {
            "text/plain": [
              "<IPython.core.display.HTML object>"
            ],
            "text/html": [
              "<div><iframe src=\"https://9756c5824adc686d1c.gradio.live\" width=\"100%\" height=\"500\" allow=\"autoplay; camera; microphone; clipboard-read; clipboard-write;\" frameborder=\"0\" allowfullscreen></iframe></div>"
            ]
          },
          "metadata": {}
        },
        {
          "output_type": "execute_result",
          "data": {
            "text/plain": []
          },
          "metadata": {},
          "execution_count": 14
        }
      ]
    },
    {
      "cell_type": "code",
      "source": [
        "# Prompt chaining example\n",
        "\n",
        "from langchain.chains import LLMChain, SimpleSequentialChain\n",
        "from langchain.prompts import PromptTemplate\n",
        "\n",
        "\n",
        "# chain 1: Generating premises\n",
        "comedian = \"Kevin Hart\"\n",
        "\n",
        "template = \"\"\"In bullet point form, wrie 5-10 potential topics for jokes about going to the movies that might be employed by {comedian}. Don't write the entire jokes just the premises. Mention the name of the comedian at the start of the bullet point\\n\"\"\"\n",
        "prompt_template = PromptTemplate(input_variables=[\"comedian\"], template=template)\n",
        "premises_chain = LLMChain(llm=llm, prompt=prompt_template)\n",
        "\n",
        "# chain 2: Generate storyboard\n",
        "template = \"\"\"Here are a list of premises for jokes in the style of our requested comedian:\n",
        "  {premises}\n",
        "  From these bullet points, select 2-3 premises that could be combined into a funny joke, and note how they might flow with one and other.\\n\\n\"\"\"\n",
        "prompt_template = PromptTemplate(input_variables=[\"premises\"],template=template)\n",
        "storyboard_chain = LLMChain(llm=llm, prompt=prompt_template)\n",
        "\n",
        "# Chain 3: Create joke\n",
        "template = \"\"\"Using the following storyboard:\n",
        "{storyboard}\n",
        "  Please write a comedic joke in the style of our requested comedian.\n",
        "  \"\"\"\n",
        "prompt_template = PromptTemplate(input_variables=[\"storyboard\"],template=template)\n",
        "final_joke_chain = LLMChain(llm=llm, prompt=prompt_template)\n",
        "final_joke_chain_seq = SimpleSequentialChain(\n",
        "      chains=[premises_chain, storyboard_chain, final_joke_chain],verbose=True\n",
        ")\n",
        "\n",
        "print(final_joke_chain_seq.run(comedian))"
      ],
      "metadata": {
        "id": "-GWpNUO2CCzY",
        "colab": {
          "base_uri": "https://localhost:8080/"
        },
        "outputId": "317ebc53-98a2-4da8-e408-181f8b450966"
      },
      "execution_count": 15,
      "outputs": [
        {
          "output_type": "stream",
          "name": "stderr",
          "text": [
            "/usr/local/lib/python3.10/dist-packages/langchain_core/_api/deprecation.py:117: LangChainDeprecationWarning: The function `run` was deprecated in LangChain 0.1.0 and will be removed in 0.2.0. Use invoke instead.\n",
            "  warn_deprecated(\n"
          ]
        },
        {
          "output_type": "stream",
          "name": "stdout",
          "text": [
            "\n",
            "\n",
            "\u001b[1m> Entering new SimpleSequentialChain chain...\u001b[0m\n",
            "\u001b[36;1m\u001b[1;3m- Kevin Hart: \"The struggle of finding a seat at the movies when you're short\"\n",
            "- Kevin Hart: \"When you take your kids to see an animated movie and end up enjoying it more than them\"\n",
            "- Kevin Hart: \"The absurd prices of popcorn at the movies\"\n",
            "- Kevin Hart: \"Trying to sneak snacks into the theater without getting caught\"\n",
            "- Kevin Hart: \"The annoying person who talks throughout the entire movie\"\n",
            "- Kevin Hart: \"The fear of accidentally sitting next to someone who talks to the screen\"\n",
            "- Kevin Hart: \"The anxiety of choosing the right movie and ending up disappointed\"\n",
            "- Kevin Hart: \"The frustration of sitting behind someone with a huge head at the movies\"\n",
            "- Kevin Hart: \"The struggle of trying to hold in laughter during a funny movie\"\n",
            "- Kevin Hart: \"The awkwardness of going to the movies alone and feeling judged\"\u001b[0m\n",
            "\u001b[33;1m\u001b[1;3mPremises: \n",
            "- Kevin Hart: \"The struggle of finding a seat at the movies when you're short\"\n",
            "- Kevin Hart: \"The absurd prices of popcorn at the movies\"\n",
            "- Kevin Hart: \"The frustration of sitting behind someone with a huge head at the movies\"\n",
            "\n",
            "Combining these premises, we could create a joke:\n",
            "\n",
            "\"So, I went to the movies the other day, and let me tell you, being short is a struggle! I had to navigate through this sea of heads just to find a seat. And speaking of heads, I ended up sitting behind this guy with a head the size of a watermelon! I mean, seriously, his head was blocking half the screen! I couldn't even see the movie properly. And don't even get me started on the prices of popcorn at the movies. I had to take out a second mortgage just to afford a small popcorn. I'm telling you, going to the movies is like a comedy show itself, with all these obstacles and absurd prices. But hey, at least I got a good ab workout from trying to see over that giant head in front of me!\"\u001b[0m\n",
            "\u001b[38;5;200m\u001b[1;3m\"So, I went to the movies the other day, and let me tell you, it was a struggle for me being short. I mean, I had to do some serious parkour moves just to find a seat! It's like a real-life version of 'Mission: Impossible' - except instead of Tom Cruise, it's me trying not to trip over my own feet! And don't even get me started on the prices of popcorn at the movies. I swear, it's like they're sprinkling gold dust on those kernels or something. I had to take out a loan just to afford a small bag! But you know what's even worse? Sitting behind someone with a head the size of a hot air balloon! I couldn't see a single thing! It was like watching a movie through a keyhole. I even tried stretching my neck like a giraffe, but all I got was a sore throat. So, next time you see me at the movies, just know I'll be the one wearing stilts and carrying a popcorn bank loan. Because when you're short, you gotta go to extreme lengths for a good view and a salty snack!\"\u001b[0m\n",
            "\n",
            "\u001b[1m> Finished chain.\u001b[0m\n",
            "\"So, I went to the movies the other day, and let me tell you, it was a struggle for me being short. I mean, I had to do some serious parkour moves just to find a seat! It's like a real-life version of 'Mission: Impossible' - except instead of Tom Cruise, it's me trying not to trip over my own feet! And don't even get me started on the prices of popcorn at the movies. I swear, it's like they're sprinkling gold dust on those kernels or something. I had to take out a loan just to afford a small bag! But you know what's even worse? Sitting behind someone with a head the size of a hot air balloon! I couldn't see a single thing! It was like watching a movie through a keyhole. I even tried stretching my neck like a giraffe, but all I got was a sore throat. So, next time you see me at the movies, just know I'll be the one wearing stilts and carrying a popcorn bank loan. Because when you're short, you gotta go to extreme lengths for a good view and a salty snack!\"\n"
          ]
        }
      ]
    },
    {
      "cell_type": "code",
      "source": [
        "\"\"\"\n",
        "Final exercise:\n",
        "\n",
        "1) Like with our travel consultant above, we would like to create a chatbot.\n",
        "\n",
        "Rather than a travel consultant, we would like this chatbot to be a financial consultant of which the user can ask personal finance questions.\n",
        "\n",
        "Also, we would like to create a Gradio interface with streamed responses.\n",
        "\n",
        "\n",
        "2) Create a prompt chain to write a poem about McDonald's in the style of a user supplied poet (similar to the comedian joke chain we created above).\n",
        "\n",
        "\"\"\""
      ],
      "metadata": {
        "id": "kxNmL2yUD7FS"
      },
      "execution_count": null,
      "outputs": []
    },
    {
      "cell_type": "code",
      "source": [
        "from langchain.prompts import ChatPromptTemplate, MessagesPlaceholder\n",
        "\n",
        "# Define a prompt template\n",
        "template = \"\"\"You are an expert Financial consultant. You give specific and thoughtful advice on personal finance.\"\"\"\n",
        "\n",
        "chat_prompt = ChatPromptTemplate.from_messages(\n",
        "    [\n",
        "        (\"system\", template),\n",
        "        MessagesPlaceholder(variable_name=\"history\"),\n",
        "        (\"human\", \"{input}\"),\n",
        "    ]\n",
        ")"
      ],
      "metadata": {
        "id": "mbOiuDoLuwaj"
      },
      "execution_count": 17,
      "outputs": []
    },
    {
      "cell_type": "code",
      "source": [
        "from langchain.memory import ConversationBufferMemory\n",
        "\n",
        "# Create conversation history store\n",
        "memory = ConversationBufferMemory(memory_key=\"history\", return_messages=True)"
      ],
      "metadata": {
        "id": "IEZBHOin-523"
      },
      "execution_count": 18,
      "outputs": []
    },
    {
      "cell_type": "code",
      "source": [
        "from langchain.schema.runnable import RunnableLambda, RunnablePassthrough\n",
        "from operator import itemgetter\n",
        "\n",
        "# Compose components in a chain using LCEL\n",
        "chain = (\n",
        "    RunnablePassthrough.assign(\n",
        "        history=RunnableLambda(memory.load_memory_variables) | itemgetter(\"history\")\n",
        "    )\n",
        "    | chat_prompt\n",
        "    | llm\n",
        ")"
      ],
      "metadata": {
        "id": "vLonI5WX-8ZQ"
      },
      "execution_count": 19,
      "outputs": []
    },
    {
      "cell_type": "code",
      "source": [
        "# Response function for ChatInterface\n",
        "def stream_response(input, _):\n",
        "    if input is not None:\n",
        "        partial_message = \"\"\n",
        "        for chunk in chain.stream({\"input\": input}): # LCEL streaming syntax\n",
        "            partial_message += chunk.content\n",
        "            yield partial_message"
      ],
      "metadata": {
        "id": "j_nwcOMu_J40"
      },
      "execution_count": 20,
      "outputs": []
    },
    {
      "cell_type": "code",
      "source": [
        "gr.ChatInterface(\n",
        "    stream_response, retry_btn=None, undo_btn=None, clear_btn=None\n",
        ").queue().launch()"
      ],
      "metadata": {
        "id": "r1FUJKsg_Rnt",
        "outputId": "6d339b78-abca-47aa-903f-1921c01530ab",
        "colab": {
          "base_uri": "https://localhost:8080/",
          "height": 647
        }
      },
      "execution_count": 21,
      "outputs": [
        {
          "output_type": "stream",
          "name": "stdout",
          "text": [
            "Setting queue=True in a Colab notebook requires sharing enabled. Setting `share=True` (you can turn this off by setting `share=False` in `launch()` explicitly).\n",
            "\n",
            "Colab notebook detected. To show errors in colab notebook, set debug=True in launch()\n",
            "Running on public URL: https://45e7343ce4862174c5.gradio.live\n",
            "\n",
            "This share link expires in 72 hours. For free permanent hosting and GPU upgrades, run `gradio deploy` from Terminal to deploy to Spaces (https://huggingface.co/spaces)\n"
          ]
        },
        {
          "output_type": "display_data",
          "data": {
            "text/plain": [
              "<IPython.core.display.HTML object>"
            ],
            "text/html": [
              "<div><iframe src=\"https://45e7343ce4862174c5.gradio.live\" width=\"100%\" height=\"500\" allow=\"autoplay; camera; microphone; clipboard-read; clipboard-write;\" frameborder=\"0\" allowfullscreen></iframe></div>"
            ]
          },
          "metadata": {}
        },
        {
          "output_type": "execute_result",
          "data": {
            "text/plain": []
          },
          "metadata": {},
          "execution_count": 21
        }
      ]
    },
    {
      "cell_type": "code",
      "source": [
        "# Prompt chaining example 2\n",
        "\n",
        "from langchain.chains import LLMChain, SimpleSequentialChain\n",
        "from langchain.prompts import PromptTemplate\n",
        "\n",
        "\n",
        "# chain 1: Generating premises\n",
        "poet = \"Dante Alighieri\"\n",
        "\n",
        "template = \"\"\"In bullet point form, wrie 5-10 potential topics for poems about McDonald employed by {poet}. Don't write the entire poem just the premises. Mention the name of the poet at the start of the bullet point\\n\"\"\"\n",
        "prompt_template = PromptTemplate(input_variables=[\"comedian\"], template=template)\n",
        "premises_chain = LLMChain(llm=llm, prompt=prompt_template)\n",
        "\n",
        "# chain 2: Generate storyboard\n",
        "template = \"\"\"Here are a list of premises for poems in the style of our requested poet:\n",
        "  {premises}\n",
        "  From these bullet points, select 2-3 premises that could be combined into a great poem, and note how they might flow with one and other.\\n\\n\"\"\"\n",
        "prompt_template = PromptTemplate(input_variables=[\"premises\"],template=template)\n",
        "storyboard_chain = LLMChain(llm=llm, prompt=prompt_template)\n",
        "\n",
        "# Chain 3: Create joke\n",
        "template = \"\"\"Using the following storyboard:\n",
        "{storyboard}\n",
        "  Please write a great poem in the style of our requested poet.\n",
        "  \"\"\"\n",
        "prompt_template = PromptTemplate(input_variables=[\"storyboard\"],template=template)\n",
        "final_joke_chain = LLMChain(llm=llm, prompt=prompt_template)\n",
        "final_joke_chain_seq = SimpleSequentialChain(\n",
        "      chains=[premises_chain, storyboard_chain, final_joke_chain],verbose=True\n",
        ")\n",
        "\n",
        "print(final_joke_chain_seq.run(poet))"
      ],
      "metadata": {
        "id": "qOFhv-xB_34A",
        "outputId": "e425f1f9-9384-48b7-d4d2-e6b7b5c9503c",
        "colab": {
          "base_uri": "https://localhost:8080/"
        }
      },
      "execution_count": 22,
      "outputs": [
        {
          "output_type": "stream",
          "name": "stdout",
          "text": [
            "\n",
            "\n",
            "\u001b[1m> Entering new SimpleSequentialChain chain...\u001b[0m\n",
            "\u001b[36;1m\u001b[1;3mDante Alighieri:\n",
            "\n",
            "- The paradox of fast food: Exploring the contrast between McDonald's quick service and Dante's renowned masterpiece, \"The Divine Comedy.\"\n",
            "- The journey of a Big Mac: Imagining the odyssey of a McDonald's burger from its creation to its consumption, drawing parallels to Dante's journey through Hell, Purgatory, and Paradise.\n",
            "- The infernal experience of working at McDonald's: Depicting the struggles and challenges faced by employees, reminiscent of Dante's depiction of the torments of Hell.\n",
            "- The temptation of the golden arches: Reflecting on the allure and addictive nature of McDonald's food, drawing inspiration from Dante's exploration of sin and temptation.\n",
            "- The circle of drive-thru: Portraying the repetitive nature of working at the drive-thru, akin to Dante's portrayal of the souls trapped in eternal circles in Hell.\n",
            "- McFlurry of emotions: Exploring the emotional roller coaster experienced by McDonald's employees, drawing parallels to Dante's exploration of human emotions throughout his works.\n",
            "- The exodus of the happy meal: Imagining the journey of a happy meal toy, presenting a whimsical narrative inspired by Dante's epic journey through various realms.\n",
            "- The golden fries: Celebrating the simple pleasure of McDonald's fries, using Dante's language and imagery to elevate the experience to a divine level.\n",
            "- The secret recipe: Unveiling the hidden ingredients of McDonald's success, drawing inspiration from Dante's exploration of secrets and mysteries in his works.\n",
            "- The forgotten realm of Ronald McDonald: Imagining the narrative of Ronald McDonald, the iconic mascot, as a forgotten character trapped in a realm between reality and fantasy, reminiscent of Dante's limbo.\u001b[0m\n",
            "\u001b[33;1m\u001b[1;3mCombining the premises of \"The infernal experience of working at McDonald's\" and \"The circle of drive-thru\" could create an intriguing exploration of the repetitive and challenging nature of working in the fast food industry. The poem could depict the Dantean journey of a McDonald's employee through the various circles of drive-thru Hell, where each shift feels like an eternal loop of taking orders, serving food, and enduring the frustrations of customers. The poem could delve into the struggles faced by these employees, drawing parallels to Dante's depiction of tormented souls in Hell. Additionally, the premise of \"The temptation of the golden arches\" could be woven into this poem, highlighting how the allure and addictive nature of McDonald's food can further intensify the infernal experience for both customers and employees. The flow of the poem could follow the employee's descent into the drive-thru Hell, encountering various challenges and temptations along the way, ultimately capturing the cyclical and tormenting nature of working in the fast food industry.\u001b[0m\n",
            "\u001b[38;5;200m\u001b[1;3mIn the depths of drive-thru Hell I toil,\n",
            "A McDonald's employee caught in the coil,\n",
            "Where each shift feels like an eternal loop,\n",
            "Of taking orders, serving food, and enduring the scoop.\n",
            "\n",
            "With Dantean journey, I descend,\n",
            "Through the circles of drive-thru, no end,\n",
            "The first circle, where the orders are taken,\n",
            "Frustrated customers, their patience forsaken.\n",
            "\n",
            "Their voices echo like the wails of the damned,\n",
            "As I scribble down their demands,\n",
            "They change their minds and complain,\n",
            "As if their satisfaction is my only aim.\n",
            "\n",
            "Into the second circle, the food is prepared,\n",
            "The heat of the kitchen, a fiery lair,\n",
            "Burgers sizzle, fries turn golden,\n",
            "But my soul feels weary and olden.\n",
            "\n",
            "The third circle, where the drinks are poured,\n",
            "A never-ending stream, customers clamored,\n",
            "Each cup filled to the brim with soda,\n",
            "But my spirit feels empty and colder.\n",
            "\n",
            "The fourth circle, where the drive-thru waits,\n",
            "Cars lined up like inmates at the gates,\n",
            "I take their money, hand them their meals,\n",
            "But their impatience, like fire, steals.\n",
            "\n",
            "As I serve, I watch the customers feast,\n",
            "Devouring their meals, their hunger increased,\n",
            "The temptation of the golden arches, so strong,\n",
            "Their desires fed, but they're never long.\n",
            "\n",
            "And in this infernal experience, I find,\n",
            "The allure of McDonald's, a powerful bind,\n",
            "For both customers and employees alike,\n",
            "A cycle of torment, an addictive strike.\n",
            "\n",
            "But through this journey, I find solace,\n",
            "In the camaraderie, the shared malice,\n",
            "With fellow employees, we endure,\n",
            "The repetitive nature, the challenges pure.\n",
            "\n",
            "We navigate the circles of drive-thru Hell,\n",
            "Facing frustrations, like tolling bells,\n",
            "But in this cyclical torment, we unite,\n",
            "In the fast food industry's eternal fight.\n",
            "\n",
            "So here I stand, a McDonald's employee,\n",
            "In the infernal embrace of drive-thru's decree,\n",
            "But as I serve with resilience and might,\n",
            "I find strength in the darkest of night.\u001b[0m\n",
            "\n",
            "\u001b[1m> Finished chain.\u001b[0m\n",
            "In the depths of drive-thru Hell I toil,\n",
            "A McDonald's employee caught in the coil,\n",
            "Where each shift feels like an eternal loop,\n",
            "Of taking orders, serving food, and enduring the scoop.\n",
            "\n",
            "With Dantean journey, I descend,\n",
            "Through the circles of drive-thru, no end,\n",
            "The first circle, where the orders are taken,\n",
            "Frustrated customers, their patience forsaken.\n",
            "\n",
            "Their voices echo like the wails of the damned,\n",
            "As I scribble down their demands,\n",
            "They change their minds and complain,\n",
            "As if their satisfaction is my only aim.\n",
            "\n",
            "Into the second circle, the food is prepared,\n",
            "The heat of the kitchen, a fiery lair,\n",
            "Burgers sizzle, fries turn golden,\n",
            "But my soul feels weary and olden.\n",
            "\n",
            "The third circle, where the drinks are poured,\n",
            "A never-ending stream, customers clamored,\n",
            "Each cup filled to the brim with soda,\n",
            "But my spirit feels empty and colder.\n",
            "\n",
            "The fourth circle, where the drive-thru waits,\n",
            "Cars lined up like inmates at the gates,\n",
            "I take their money, hand them their meals,\n",
            "But their impatience, like fire, steals.\n",
            "\n",
            "As I serve, I watch the customers feast,\n",
            "Devouring their meals, their hunger increased,\n",
            "The temptation of the golden arches, so strong,\n",
            "Their desires fed, but they're never long.\n",
            "\n",
            "And in this infernal experience, I find,\n",
            "The allure of McDonald's, a powerful bind,\n",
            "For both customers and employees alike,\n",
            "A cycle of torment, an addictive strike.\n",
            "\n",
            "But through this journey, I find solace,\n",
            "In the camaraderie, the shared malice,\n",
            "With fellow employees, we endure,\n",
            "The repetitive nature, the challenges pure.\n",
            "\n",
            "We navigate the circles of drive-thru Hell,\n",
            "Facing frustrations, like tolling bells,\n",
            "But in this cyclical torment, we unite,\n",
            "In the fast food industry's eternal fight.\n",
            "\n",
            "So here I stand, a McDonald's employee,\n",
            "In the infernal embrace of drive-thru's decree,\n",
            "But as I serve with resilience and might,\n",
            "I find strength in the darkest of night.\n"
          ]
        }
      ]
    }
  ]
}