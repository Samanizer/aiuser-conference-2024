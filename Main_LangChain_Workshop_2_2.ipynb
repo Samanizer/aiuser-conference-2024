{
  "nbformat": 4,
  "nbformat_minor": 0,
  "metadata": {
    "colab": {
      "provenance": []
    },
    "kernelspec": {
      "name": "python3",
      "display_name": "Python 3"
    },
    "language_info": {
      "name": "python"
    }
  },
  "cells": [
    {
      "cell_type": "code",
      "execution_count": 1,
      "metadata": {
        "id": "52eVamXHH9mo",
        "colab": {
          "base_uri": "https://localhost:8080/"
        },
        "outputId": "23ec37a9-6c30-445e-e208-b0f7a025bc43"
      },
      "outputs": [
        {
          "output_type": "stream",
          "name": "stdout",
          "text": [
            "\u001b[2K     \u001b[90m━━━━━━━━━━━━━━━━━━━━━━━━━━━━━━━━━━━━━━━━\u001b[0m \u001b[32m803.6/803.6 kB\u001b[0m \u001b[31m7.7 MB/s\u001b[0m eta \u001b[36m0:00:00\u001b[0m\n",
            "\u001b[2K     \u001b[90m━━━━━━━━━━━━━━━━━━━━━━━━━━━━━━━━━━━━━━━━\u001b[0m \u001b[32m225.1/225.1 kB\u001b[0m \u001b[31m8.7 MB/s\u001b[0m eta \u001b[36m0:00:00\u001b[0m\n",
            "\u001b[2K     \u001b[90m━━━━━━━━━━━━━━━━━━━━━━━━━━━━━━━━━━━━━━━━\u001b[0m \u001b[32m509.0/509.0 kB\u001b[0m \u001b[31m10.8 MB/s\u001b[0m eta \u001b[36m0:00:00\u001b[0m\n",
            "\u001b[2K     \u001b[90m━━━━━━━━━━━━━━━━━━━━━━━━━━━━━━━━━━━━━━━━\u001b[0m \u001b[32m2.0/2.0 MB\u001b[0m \u001b[31m16.3 MB/s\u001b[0m eta \u001b[36m0:00:00\u001b[0m\n",
            "\u001b[2K     \u001b[90m━━━━━━━━━━━━━━━━━━━━━━━━━━━━━━━━━━━━━━━━\u001b[0m \u001b[32m20.3/20.3 MB\u001b[0m \u001b[31m43.7 MB/s\u001b[0m eta \u001b[36m0:00:00\u001b[0m\n",
            "\u001b[2K     \u001b[90m━━━━━━━━━━━━━━━━━━━━━━━━━━━━━━━━━━━━━━━━\u001b[0m \u001b[32m92.0/92.0 kB\u001b[0m \u001b[31m10.0 MB/s\u001b[0m eta \u001b[36m0:00:00\u001b[0m\n",
            "\u001b[?25h  Preparing metadata (setup.py) ... \u001b[?25l\u001b[?25hdone\n",
            "\u001b[2K     \u001b[90m━━━━━━━━━━━━━━━━━━━━━━━━━━━━━━━━━━━━━━━━\u001b[0m \u001b[32m299.2/299.2 kB\u001b[0m \u001b[31m28.4 MB/s\u001b[0m eta \u001b[36m0:00:00\u001b[0m\n",
            "\u001b[2K     \u001b[90m━━━━━━━━━━━━━━━━━━━━━━━━━━━━━━━━━━━━━━━━\u001b[0m \u001b[32m75.9/75.9 kB\u001b[0m \u001b[31m8.7 MB/s\u001b[0m eta \u001b[36m0:00:00\u001b[0m\n",
            "\u001b[2K     \u001b[90m━━━━━━━━━━━━━━━━━━━━━━━━━━━━━━━━━━━━━━━━\u001b[0m \u001b[32m139.8/139.8 kB\u001b[0m \u001b[31m14.0 MB/s\u001b[0m eta \u001b[36m0:00:00\u001b[0m\n",
            "\u001b[2K     \u001b[90m━━━━━━━━━━━━━━━━━━━━━━━━━━━━━━━━━━━━━━━━\u001b[0m \u001b[32m45.7/45.7 kB\u001b[0m \u001b[31m4.7 MB/s\u001b[0m eta \u001b[36m0:00:00\u001b[0m\n",
            "\u001b[2K     \u001b[90m━━━━━━━━━━━━━━━━━━━━━━━━━━━━━━━━━━━━━━━━\u001b[0m \u001b[32m60.7/60.7 kB\u001b[0m \u001b[31m6.3 MB/s\u001b[0m eta \u001b[36m0:00:00\u001b[0m\n",
            "\u001b[2K     \u001b[90m━━━━━━━━━━━━━━━━━━━━━━━━━━━━━━━━━━━━━━━━\u001b[0m \u001b[32m129.9/129.9 kB\u001b[0m \u001b[31m13.6 MB/s\u001b[0m eta \u001b[36m0:00:00\u001b[0m\n",
            "\u001b[2K     \u001b[90m━━━━━━━━━━━━━━━━━━━━━━━━━━━━━━━━━━━━━━━━\u001b[0m \u001b[32m1.6/1.6 MB\u001b[0m \u001b[31m56.8 MB/s\u001b[0m eta \u001b[36m0:00:00\u001b[0m\n",
            "\u001b[2K     \u001b[90m━━━━━━━━━━━━━━━━━━━━━━━━━━━━━━━━━━━━━━━━\u001b[0m \u001b[32m235.9/235.9 kB\u001b[0m \u001b[31m23.3 MB/s\u001b[0m eta \u001b[36m0:00:00\u001b[0m\n",
            "\u001b[2K     \u001b[90m━━━━━━━━━━━━━━━━━━━━━━━━━━━━━━━━━━━━━━━━\u001b[0m \u001b[32m54.0/54.0 kB\u001b[0m \u001b[31m4.6 MB/s\u001b[0m eta \u001b[36m0:00:00\u001b[0m\n",
            "\u001b[2K     \u001b[90m━━━━━━━━━━━━━━━━━━━━━━━━━━━━━━━━━━━━━━━━\u001b[0m \u001b[32m6.9/6.9 MB\u001b[0m \u001b[31m18.8 MB/s\u001b[0m eta \u001b[36m0:00:00\u001b[0m\n",
            "\u001b[2K     \u001b[90m━━━━━━━━━━━━━━━━━━━━━━━━━━━━━━━━━━━━━━━━\u001b[0m \u001b[32m2.4/2.4 MB\u001b[0m \u001b[31m37.9 MB/s\u001b[0m eta \u001b[36m0:00:00\u001b[0m\n",
            "\u001b[2K     \u001b[90m━━━━━━━━━━━━━━━━━━━━━━━━━━━━━━━━━━━━━━━━\u001b[0m \u001b[32m40.8/40.8 kB\u001b[0m \u001b[31m1.7 MB/s\u001b[0m eta \u001b[36m0:00:00\u001b[0m\n",
            "\u001b[2K     \u001b[90m━━━━━━━━━━━━━━━━━━━━━━━━━━━━━━━━━━━━━━━━\u001b[0m \u001b[32m5.4/5.4 MB\u001b[0m \u001b[31m58.7 MB/s\u001b[0m eta \u001b[36m0:00:00\u001b[0m\n",
            "\u001b[2K     \u001b[90m━━━━━━━━━━━━━━━━━━━━━━━━━━━━━━━━━━━━━━━━\u001b[0m \u001b[32m6.8/6.8 MB\u001b[0m \u001b[31m54.0 MB/s\u001b[0m eta \u001b[36m0:00:00\u001b[0m\n",
            "\u001b[2K     \u001b[90m━━━━━━━━━━━━━━━━━━━━━━━━━━━━━━━━━━━━━━━━\u001b[0m \u001b[32m57.9/57.9 kB\u001b[0m \u001b[31m4.7 MB/s\u001b[0m eta \u001b[36m0:00:00\u001b[0m\n",
            "\u001b[2K     \u001b[90m━━━━━━━━━━━━━━━━━━━━━━━━━━━━━━━━━━━━━━━━\u001b[0m \u001b[32m105.6/105.6 kB\u001b[0m \u001b[31m8.7 MB/s\u001b[0m eta \u001b[36m0:00:00\u001b[0m\n",
            "\u001b[2K     \u001b[90m━━━━━━━━━━━━━━━━━━━━━━━━━━━━━━━━━━━━━━━━\u001b[0m \u001b[32m67.3/67.3 kB\u001b[0m \u001b[31m6.9 MB/s\u001b[0m eta \u001b[36m0:00:00\u001b[0m\n",
            "\u001b[?25h  Installing build dependencies ... \u001b[?25l\u001b[?25hdone\n",
            "  Getting requirements to build wheel ... \u001b[?25l\u001b[?25hdone\n",
            "  Preparing metadata (pyproject.toml) ... \u001b[?25l\u001b[?25hdone\n",
            "\u001b[2K     \u001b[90m━━━━━━━━━━━━━━━━━━━━━━━━━━━━━━━━━━━━━━━━\u001b[0m \u001b[32m698.9/698.9 kB\u001b[0m \u001b[31m45.5 MB/s\u001b[0m eta \u001b[36m0:00:00\u001b[0m\n",
            "\u001b[2K     \u001b[90m━━━━━━━━━━━━━━━━━━━━━━━━━━━━━━━━━━━━━━━━\u001b[0m \u001b[32m1.6/1.6 MB\u001b[0m \u001b[31m67.7 MB/s\u001b[0m eta \u001b[36m0:00:00\u001b[0m\n",
            "\u001b[2K     \u001b[90m━━━━━━━━━━━━━━━━━━━━━━━━━━━━━━━━━━━━━━━━\u001b[0m \u001b[32m67.6/67.6 kB\u001b[0m \u001b[31m7.7 MB/s\u001b[0m eta \u001b[36m0:00:00\u001b[0m\n",
            "\u001b[2K     \u001b[90m━━━━━━━━━━━━━━━━━━━━━━━━━━━━━━━━━━━━━━━━\u001b[0m \u001b[32m49.4/49.4 kB\u001b[0m \u001b[31m5.4 MB/s\u001b[0m eta \u001b[36m0:00:00\u001b[0m\n",
            "\u001b[2K     \u001b[90m━━━━━━━━━━━━━━━━━━━━━━━━━━━━━━━━━━━━━━━━\u001b[0m \u001b[32m71.1/71.1 kB\u001b[0m \u001b[31m5.8 MB/s\u001b[0m eta \u001b[36m0:00:00\u001b[0m\n",
            "\u001b[2K     \u001b[90m━━━━━━━━━━━━━━━━━━━━━━━━━━━━━━━━━━━━━━━━\u001b[0m \u001b[32m76.9/76.9 kB\u001b[0m \u001b[31m7.3 MB/s\u001b[0m eta \u001b[36m0:00:00\u001b[0m\n",
            "\u001b[2K     \u001b[90m━━━━━━━━━━━━━━━━━━━━━━━━━━━━━━━━━━━━━━━━\u001b[0m \u001b[32m58.3/58.3 kB\u001b[0m \u001b[31m6.5 MB/s\u001b[0m eta \u001b[36m0:00:00\u001b[0m\n",
            "\u001b[2K     \u001b[90m━━━━━━━━━━━━━━━━━━━━━━━━━━━━━━━━━━━━━━━━\u001b[0m \u001b[32m46.0/46.0 kB\u001b[0m \u001b[31m5.1 MB/s\u001b[0m eta \u001b[36m0:00:00\u001b[0m\n",
            "\u001b[2K     \u001b[90m━━━━━━━━━━━━━━━━━━━━━━━━━━━━━━━━━━━━━━━━\u001b[0m \u001b[32m50.8/50.8 kB\u001b[0m \u001b[31m4.3 MB/s\u001b[0m eta \u001b[36m0:00:00\u001b[0m\n",
            "\u001b[2K     \u001b[90m━━━━━━━━━━━━━━━━━━━━━━━━━━━━━━━━━━━━━━━━\u001b[0m \u001b[32m341.4/341.4 kB\u001b[0m \u001b[31m28.6 MB/s\u001b[0m eta \u001b[36m0:00:00\u001b[0m\n",
            "\u001b[2K     \u001b[90m━━━━━━━━━━━━━━━━━━━━━━━━━━━━━━━━━━━━━━━━\u001b[0m \u001b[32m3.4/3.4 MB\u001b[0m \u001b[31m87.1 MB/s\u001b[0m eta \u001b[36m0:00:00\u001b[0m\n",
            "\u001b[2K     \u001b[90m━━━━━━━━━━━━━━━━━━━━━━━━━━━━━━━━━━━━━━━━\u001b[0m \u001b[32m1.3/1.3 MB\u001b[0m \u001b[31m65.1 MB/s\u001b[0m eta \u001b[36m0:00:00\u001b[0m\n",
            "\u001b[2K     \u001b[90m━━━━━━━━━━━━━━━━━━━━━━━━━━━━━━━━━━━━━━━━\u001b[0m \u001b[32m86.8/86.8 kB\u001b[0m \u001b[31m9.9 MB/s\u001b[0m eta \u001b[36m0:00:00\u001b[0m\n",
            "\u001b[?25h  Building wheel for pypika (pyproject.toml) ... \u001b[?25l\u001b[?25hdone\n",
            "  Building wheel for ffmpy (setup.py) ... \u001b[?25l\u001b[?25hdone\n",
            "\u001b[31mERROR: pip's dependency resolver does not currently take into account all the packages that are installed. This behaviour is the source of the following dependency conflicts.\n",
            "lida 0.0.10 requires kaleido, which is not installed.\n",
            "llmx 0.0.15a0 requires cohere, which is not installed.\n",
            "tensorflow-probability 0.22.0 requires typing-extensions<4.6.0, but you have typing-extensions 4.9.0 which is incompatible.\u001b[0m\u001b[31m\n",
            "\u001b[0m"
          ]
        }
      ],
      "source": [
        "# Install requirements\n",
        "!pip -q install langchain openai duckduckgo-search chromadb pydantic tiktoken gradio==\"3.48.0\""
      ]
    },
    {
      "cell_type": "code",
      "source": [
        "# Set API Key\n",
        "import os\n",
        "import getpass\n",
        "\n",
        "os.environ[\"OPENAI_API_KEY\"] = getpass.getpass(\"Enter OpenAI API Key: \")"
      ],
      "metadata": {
        "colab": {
          "base_uri": "https://localhost:8080/"
        },
        "id": "Uky7ZsaJQz2N",
        "outputId": "85070b56-4a56-4147-a35d-7f546fabb7a3"
      },
      "execution_count": 2,
      "outputs": [
        {
          "name": "stdout",
          "output_type": "stream",
          "text": [
            "Enter OpenAI API Key: ··········\n"
          ]
        }
      ]
    },
    {
      "cell_type": "code",
      "source": [
        "# Download data\n",
        "!wget --no-check-certificate 'https://drive.google.com/uc?export=download&id=16bdTUIraNK4h_32LA6Qr3VqxMTMmyJkU' -O \"address_book.csv\"\n",
        "\n",
        "from langchain.document_loaders.csv_loader import CSVLoader\n",
        "\n",
        "loader = CSVLoader(file_path=\"address_book.csv\")\n",
        "data = loader.load()"
      ],
      "metadata": {
        "id": "_DVCae0x8gNW",
        "colab": {
          "base_uri": "https://localhost:8080/"
        },
        "outputId": "3787dfa5-b7b9-43bd-957d-c72dbabd3358"
      },
      "execution_count": 3,
      "outputs": [
        {
          "output_type": "stream",
          "name": "stdout",
          "text": [
            "--2024-01-31 22:11:11--  https://drive.google.com/uc?export=download&id=16bdTUIraNK4h_32LA6Qr3VqxMTMmyJkU\n",
            "Resolving drive.google.com (drive.google.com)... 173.194.213.138, 173.194.213.101, 173.194.213.113, ...\n",
            "Connecting to drive.google.com (drive.google.com)|173.194.213.138|:443... connected.\n",
            "HTTP request sent, awaiting response... 303 See Other\n",
            "Location: https://drive.usercontent.google.com/download?id=16bdTUIraNK4h_32LA6Qr3VqxMTMmyJkU&export=download [following]\n",
            "--2024-01-31 22:11:11--  https://drive.usercontent.google.com/download?id=16bdTUIraNK4h_32LA6Qr3VqxMTMmyJkU&export=download\n",
            "Resolving drive.usercontent.google.com (drive.usercontent.google.com)... 173.194.211.132, 2607:f8b0:400c:c10::84\n",
            "Connecting to drive.usercontent.google.com (drive.usercontent.google.com)|173.194.211.132|:443... connected.\n",
            "HTTP request sent, awaiting response... 200 OK\n",
            "Length: 1975 (1.9K) [application/octet-stream]\n",
            "Saving to: ‘address_book.csv’\n",
            "\n",
            "address_book.csv    100%[===================>]   1.93K  --.-KB/s    in 0s      \n",
            "\n",
            "2024-01-31 22:11:11 (59.2 MB/s) - ‘address_book.csv’ saved [1975/1975]\n",
            "\n"
          ]
        }
      ]
    },
    {
      "cell_type": "code",
      "source": [
        "# Raw vector retrieval\n",
        "from langchain.embeddings import OpenAIEmbeddings\n",
        "from langchain.vectorstores import Chroma\n",
        "\n",
        "vectorstore = Chroma.from_documents(documents=data, embedding=OpenAIEmbeddings())\n",
        "retriever = vectorstore.as_retriever()\n",
        "retriever.get_relevant_documents(\"What's Chris' phone number?\")"
      ],
      "metadata": {
        "id": "I-bU7tAkcygR",
        "colab": {
          "base_uri": "https://localhost:8080/"
        },
        "outputId": "ca4ea60f-e134-45e7-fa89-3d77cbf44bc4"
      },
      "execution_count": 4,
      "outputs": [
        {
          "output_type": "stream",
          "name": "stderr",
          "text": [
            "/usr/local/lib/python3.10/dist-packages/langchain_core/_api/deprecation.py:117: LangChainDeprecationWarning: The class `langchain_community.embeddings.openai.OpenAIEmbeddings` was deprecated in langchain-community 0.1.0 and will be removed in 0.2.0. An updated version of the class exists in the langchain-openai package and should be used instead. To use it run `pip install -U langchain-openai` and import as `from langchain_openai import OpenAIEmbeddings`.\n",
            "  warn_deprecated(\n"
          ]
        },
        {
          "output_type": "execute_result",
          "data": {
            "text/plain": [
              "[Document(page_content='Name: Christopher Moore\\nEmail: chrism@email.com\\nPhone: 555-0112\\nAddress: 909 Palm St\\nCity: Creekview', metadata={'row': 11, 'source': 'address_book.csv'}),\n",
              " Document(page_content='Name: Ryan Lee\\nEmail: ryanl@email.com\\nPhone: 555-0124\\nAddress: 2121 Cherry St\\nCity: Highland', metadata={'row': 23, 'source': 'address_book.csv'}),\n",
              " Document(page_content='Name: Jason Harris\\nEmail: jasonh@email.com\\nPhone: 555-0114\\nAddress: 1111 Fir St\\nCity: Sunnyside', metadata={'row': 13, 'source': 'address_book.csv'}),\n",
              " Document(page_content='Name: Chloe Wilson\\nEmail: chloew@email.com\\nPhone: 555-0127\\nAddress: 2424 Palm St\\nCity: Riverside', metadata={'row': 26, 'source': 'address_book.csv'})]"
            ]
          },
          "metadata": {},
          "execution_count": 4
        }
      ]
    },
    {
      "cell_type": "code",
      "source": [
        "# Set up LLM\n",
        "from langchain.chat_models import ChatOpenAI\n",
        "\n",
        "contacts_llm = llm = ChatOpenAI(temperature=0, model=\"gpt-3.5-turbo-1106\")"
      ],
      "metadata": {
        "id": "zBo0C0iUsmCv",
        "colab": {
          "base_uri": "https://localhost:8080/"
        },
        "outputId": "2741fccb-a1a0-4be6-e90d-2ec572c0c20d"
      },
      "execution_count": 5,
      "outputs": [
        {
          "output_type": "stream",
          "name": "stderr",
          "text": [
            "/usr/local/lib/python3.10/dist-packages/langchain_core/_api/deprecation.py:117: LangChainDeprecationWarning: The class `langchain_community.chat_models.openai.ChatOpenAI` was deprecated in langchain-community 0.0.10 and will be removed in 0.2.0. An updated version of the class exists in the langchain-openai package and should be used instead. To use it run `pip install -U langchain-openai` and import as `from langchain_openai import ChatOpenAI`.\n",
            "  warn_deprecated(\n"
          ]
        }
      ]
    },
    {
      "cell_type": "code",
      "source": [
        "# Perform RAG\n",
        "from langchain_core.output_parsers import StrOutputParser\n",
        "from langchain.prompts import ChatPromptTemplate, MessagesPlaceholder\n",
        "\n",
        "contacts_prompt = ChatPromptTemplate.from_messages([\n",
        "    (\"system\", \"Answer the user's query.\"),\n",
        "    (\"user\", \"{question}\"),\n",
        "    (\"user\", \"{context}\")\n",
        "    ])\n",
        "\n",
        "# LangChain expression language to call our LLM using the prompt template above\n",
        "contacts_chain = (\n",
        "    {\"question\": lambda x: x[\"question\"],\n",
        "     \"context\": lambda x: retriever.get_relevant_documents(x[\"question\"]),\n",
        "     }\n",
        "    | contacts_prompt\n",
        "    | contacts_llm\n",
        "    | StrOutputParser()\n",
        ")\n",
        "\n",
        "contacts_chain.invoke({\"question\": \"Get me Chris and Madison's phone numbers\"})"
      ],
      "metadata": {
        "id": "6inQhp_KezYE",
        "colab": {
          "base_uri": "https://localhost:8080/",
          "height": 35
        },
        "outputId": "edd585ed-060d-4442-9d0e-1ef5df97b81e"
      },
      "execution_count": 6,
      "outputs": [
        {
          "output_type": "execute_result",
          "data": {
            "text/plain": [
              "'Here are the phone numbers for Chris and Madison:\\n\\nMadison Thomas: 555-0121\\nChristopher Moore: 555-0112'"
            ],
            "application/vnd.google.colaboratory.intrinsic+json": {
              "type": "string"
            }
          },
          "metadata": {},
          "execution_count": 6
        }
      ]
    },
    {
      "cell_type": "code",
      "source": [
        "# Create functions for our tool\n",
        "\n",
        "from pydantic import BaseModel, Field\n",
        "\n",
        "# Calculator function\n",
        "def calculate(operation, a, b):\n",
        "    if operation not in [\"multiply\", \"divide\", \"add\", \"subtract\", \"exponentiate\"]:\n",
        "        raise ValueError(f\"Invalid operation: {operation}\")\n",
        "\n",
        "    if operation == \"multiply\":\n",
        "        return a * b\n",
        "    elif operation == \"divide\":\n",
        "        if b == 0:\n",
        "            raise ValueError(\"Cannot divide by zero.\")\n",
        "        return a / b\n",
        "    elif operation == \"add\":\n",
        "        return a + b\n",
        "    elif operation == \"subtract\":\n",
        "        return a - b\n",
        "    elif operation == \"exponentiate\":\n",
        "        return a ** b\n",
        "\n",
        "# Define schema - helps Agent understand usage\n",
        "class CalculatorTool(BaseModel):\n",
        "  operation: str = Field(description=\"Valid inputs: 'multiply', 'divide', 'add', 'subtract', or 'exponentiate'.\")\n",
        "  a: float = Field(description=\"The first number in the operation.\")\n",
        "  b: float = Field(description=\"The second number in the operation.\")"
      ],
      "metadata": {
        "id": "83wQAopjAnEu"
      },
      "execution_count": 7,
      "outputs": []
    },
    {
      "cell_type": "code",
      "source": [
        "# Use StructuredTool for multiple inputs\n",
        "from langchain.tools import StructuredTool, Tool\n",
        "\n",
        "calculator_tool = StructuredTool.from_function(\n",
        "    func=calculate,\n",
        "    name=\"Calculator\",\n",
        "    description=\"Use for arithmetic between two terms.\",\n",
        "    args_schema=CalculatorTool\n",
        ")"
      ],
      "metadata": {
        "id": "myJWck1AA78W"
      },
      "execution_count": 8,
      "outputs": []
    },
    {
      "cell_type": "code",
      "source": [
        "# Define contacts tool\n",
        "contacts_tool = Tool.from_function(\n",
        "    func = retriever.get_relevant_documents,\n",
        "    name=\"Contacts\",\n",
        "    description=\"Search for contacts\"\n",
        ")"
      ],
      "metadata": {
        "id": "LPQUvKqX5H0U"
      },
      "execution_count": 9,
      "outputs": []
    },
    {
      "cell_type": "code",
      "source": [
        "# Give our agent our calculator tool, a DuckDuckGo search tool, and our contacts search tool\n",
        "from langchain.tools import DuckDuckGoSearchRun\n",
        "from langchain.tools.render import format_tool_to_openai_tool\n",
        "\n",
        "\n",
        "lc_tools = [DuckDuckGoSearchRun(), calculator_tool, contacts_tool]\n",
        "oai_tools = [format_tool_to_openai_tool(tool) for tool in lc_tools]"
      ],
      "metadata": {
        "id": "8_ECQNg3BY1K",
        "colab": {
          "base_uri": "https://localhost:8080/"
        },
        "outputId": "111eff78-1554-4685-b22e-d884f18788e1"
      },
      "execution_count": 10,
      "outputs": [
        {
          "output_type": "stream",
          "name": "stderr",
          "text": [
            "/usr/local/lib/python3.10/dist-packages/langchain_core/_api/deprecation.py:117: LangChainDeprecationWarning: The function `format_tool_to_openai_tool` was deprecated in LangChain 0.1.16 and will be removed in 0.2.0. Use langchain_core.utils.function_calling.convert_to_openai_function() instead.\n",
            "  warn_deprecated(\n"
          ]
        }
      ]
    },
    {
      "cell_type": "code",
      "source": [
        "# LLM for our agent's use\n",
        "llm = ChatOpenAI(temperature=0, model=\"gpt-3.5-turbo-1106\")"
      ],
      "metadata": {
        "id": "ot0QtOtpP0Ik"
      },
      "execution_count": 11,
      "outputs": []
    },
    {
      "cell_type": "code",
      "source": [
        "from langchain.prompts import ChatPromptTemplate, MessagesPlaceholder\n",
        "\n",
        "prompt = ChatPromptTemplate.from_messages(\n",
        "    [\n",
        "        (\"system\", \"You are a helpful event-planning assistant. Use specific details to support your responses.\"),\n",
        "        MessagesPlaceholder(variable_name=\"chat_history\"),\n",
        "        (\"user\", \"{input}\"),\n",
        "        MessagesPlaceholder(variable_name=\"agent_scratchpad\"),\n",
        "    ]\n",
        ")"
      ],
      "metadata": {
        "id": "9nVO7ixfPwN8"
      },
      "execution_count": 12,
      "outputs": []
    },
    {
      "cell_type": "code",
      "source": [
        "from langchain_core.messages import AIMessage, HumanMessage\n",
        "\n",
        "# For use in agent. From https://python.langchain.com/docs/modules/agents/how_to/custom_agent#adding-memory\n",
        "chat_history = []"
      ],
      "metadata": {
        "id": "7rtGFHGnIdf-"
      },
      "execution_count": 13,
      "outputs": []
    },
    {
      "cell_type": "code",
      "source": [
        "# Define our agent in LCEL\n",
        "from langchain.agents.output_parsers.openai_tools import OpenAIToolsAgentOutputParser\n",
        "from langchain.agents.format_scratchpad.openai_tools import (\n",
        "    format_to_openai_tool_messages,\n",
        ")\n",
        "from operator import itemgetter\n",
        "\n",
        "\n",
        "agent = (\n",
        "    {\n",
        "        \"input\": lambda x: x[\"input\"],\n",
        "        \"agent_scratchpad\": lambda x: format_to_openai_tool_messages(\n",
        "            x[\"intermediate_steps\"]\n",
        "        ),\n",
        "        \"chat_history\": lambda x: x[\"chat_history\"]\n",
        "    }\n",
        "    | prompt\n",
        "    | llm.bind(tools=oai_tools)\n",
        "    | OpenAIToolsAgentOutputParser()\n",
        ")"
      ],
      "metadata": {
        "id": "CjNpPLpNSPNU"
      },
      "execution_count": 14,
      "outputs": []
    },
    {
      "cell_type": "code",
      "source": [
        "# Create an agent executor\n",
        "from langchain.agents import AgentExecutor, AgentType, Tool, initialize_agent\n",
        "\n",
        "agent_executor = AgentExecutor(agent=agent, tools=lc_tools, verbose=True)"
      ],
      "metadata": {
        "id": "CvIWsJK3SrHE"
      },
      "execution_count": 15,
      "outputs": []
    },
    {
      "cell_type": "code",
      "source": [
        "def gen_response(input, _):\n",
        "  response = agent_executor.invoke(\n",
        "      {\n",
        "          \"input\": input,\n",
        "          \"chat_history\": chat_history\n",
        "      }\n",
        "  )[\"output\"]\n",
        "\n",
        "  save_to_memory(input, response)\n",
        "\n",
        "  return response\n",
        "\n",
        "def save_to_memory(input, response):\n",
        "  chat_history.extend(\n",
        "    [\n",
        "        HumanMessage(content=input),\n",
        "        AIMessage(content=response),\n",
        "    ]\n",
        "  )"
      ],
      "metadata": {
        "id": "3RvUk4TCSuOW"
      },
      "execution_count": 16,
      "outputs": []
    },
    {
      "cell_type": "code",
      "source": [
        "gen_response(\"What's a good spot for BBQ in SF?\",_)"
      ],
      "metadata": {
        "colab": {
          "base_uri": "https://localhost:8080/",
          "height": 304
        },
        "id": "EfWMGjLJmyPU",
        "outputId": "95a415a8-54c8-4d3d-d64a-82291b574787"
      },
      "execution_count": 19,
      "outputs": [
        {
          "output_type": "stream",
          "name": "stdout",
          "text": [
            "\n",
            "\n",
            "\u001b[1m> Entering new AgentExecutor chain...\u001b[0m\n",
            "\u001b[32;1m\u001b[1;3m\n",
            "Invoking: `duckduckgo_search` with `{'query': 'best BBQ spots in San Francisco'}`\n",
            "\n",
            "\n",
            "\u001b[0m"
          ]
        },
        {
          "output_type": "stream",
          "name": "stderr",
          "text": [
            "/usr/local/lib/python3.10/dist-packages/langchain_community/utilities/duckduckgo_search.py:47: UserWarning: DDGS running in an async loop. This may cause errors. Use AsyncDDGS instead.\n",
            "  with DDGS() as ddgs:\n"
          ]
        },
        {
          "output_type": "stream",
          "name": "stdout",
          "text": [
            "\u001b[36;1m\u001b[1;3mFoursquare 1941 Oak Park Blvd, Pleasant Hill, CA 94523 (925) 942-0149 Visit Website Also featured in: 18 New and Classic Bay Area Barbecue Joints That Are Open for Takeout Pig In A Pickle Showing 8 of 8 Breakwater Barbecue 30 Ave Portola #1B, El Granada See on map Add to wishlist Brian Feulner / The Chronicle Brian Feulner / The Chronicle You often have to make a trek for good... Read more. With big events taking place every now and then, San Francisco attracts more than 25 million visitors annually. People usually visit San Francisco for the beautiful views and various destination spots. But you are one of those people and love BBQ too, here are our top picks for the best BBQ in San Francisco. Contents [ show] 3. Tommy's Joynt 8.2 1101 Geary Blvd (at Van Ness), San Francisco, CA BBQ Joint · Cathedral Hill · 213 tips and reviews Blake Samic: Great home-style BBQ and beer selection - and pretty cheap. Try the brisket. Mark Heyert: Specials are always good. Manna To start our list of where to get Korean BBQ in San Francisco, we have Manna! This clean and trendy eatery is an extremely popular spot amongst locals and tourists alike, as it's tucked right by the San Francisco Botanical Garden. So, you can easily check out the best Korean BBQ in San Francisco before marveling at the city's finest blooms!\u001b[0m\u001b[32;1m\u001b[1;3mOne of the top picks for the best BBQ in San Francisco is \"Tommy's Joynt\" located at 1101 Geary Blvd (at Van Ness), San Francisco, CA. It's a popular BBQ joint with a great home-style BBQ and a wide beer selection. Customers recommend trying the brisket, and the specials are always good.\u001b[0m\n",
            "\n",
            "\u001b[1m> Finished chain.\u001b[0m\n"
          ]
        },
        {
          "output_type": "execute_result",
          "data": {
            "text/plain": [
              "'One of the top picks for the best BBQ in San Francisco is \"Tommy\\'s Joynt\" located at 1101 Geary Blvd (at Van Ness), San Francisco, CA. It\\'s a popular BBQ joint with a great home-style BBQ and a wide beer selection. Customers recommend trying the brisket, and the specials are always good.'"
            ],
            "application/vnd.google.colaboratory.intrinsic+json": {
              "type": "string"
            }
          },
          "metadata": {},
          "execution_count": 19
        }
      ]
    },
    {
      "cell_type": "code",
      "source": [
        "\"\"\"\n",
        "Time to try interacting with our agent! Launch in Gradio and ask it the following questions\n",
        "\n",
        "* What's a good spot for BBQ in SF?\n",
        "* What are Chris and Madison's phone numbers?\n",
        "* I have 3 cakes. Each has 9 slices. If have 20 guests, how many slices will I have left over?\n",
        "\"\"\"\n",
        "import gradio as gr\n",
        "\n",
        "gr.ChatInterface(\n",
        "    gen_response, retry_btn=False, undo_btn=False, clear_btn=False\n",
        ").queue().launch(debug=True)"
      ],
      "metadata": {
        "id": "3Sj5-clmMduy",
        "colab": {
          "base_uri": "https://localhost:8080/",
          "height": 1000
        },
        "outputId": "22993b14-2ed5-48e1-c167-f89788606831"
      },
      "execution_count": 17,
      "outputs": [
        {
          "output_type": "stream",
          "name": "stderr",
          "text": [
            "Exception in thread Thread-14 (run):\n",
            "Traceback (most recent call last):\n",
            "  File \"/usr/lib/python3.10/threading.py\", line 1016, in _bootstrap_inner\n",
            "    self.run()\n",
            "  File \"/usr/lib/python3.10/threading.py\", line 953, in run\n",
            "    self._target(*self._args, **self._kwargs)\n",
            "  File \"/usr/local/lib/python3.10/dist-packages/uvicorn/server.py\", line 62, in run\n",
            "    return asyncio.run(self.serve(sockets=sockets))\n",
            "  File \"/usr/local/lib/python3.10/dist-packages/nest_asyncio.py\", line 26, in run\n",
            "    loop = asyncio.get_event_loop()\n",
            "  File \"/usr/local/lib/python3.10/dist-packages/nest_asyncio.py\", line 40, in _get_event_loop\n",
            "    loop = events.get_event_loop_policy().get_event_loop()\n",
            "  File \"/usr/lib/python3.10/asyncio/events.py\", line 656, in get_event_loop\n",
            "    raise RuntimeError('There is no current event loop in thread %r.'\n",
            "RuntimeError: There is no current event loop in thread 'Thread-14 (run)'.\n",
            "/usr/lib/python3.10/threading.py:1018: RuntimeWarning: coroutine 'Server.serve' was never awaited\n",
            "  self._invoke_excepthook(self)\n",
            "RuntimeWarning: Enable tracemalloc to get the object allocation traceback\n",
            "Exception in thread Thread-15 (run):\n",
            "Traceback (most recent call last):\n",
            "  File \"/usr/lib/python3.10/threading.py\", line 1016, in _bootstrap_inner\n",
            "    self.run()\n",
            "  File \"/usr/lib/python3.10/threading.py\", line 953, in run\n",
            "    self._target(*self._args, **self._kwargs)\n",
            "  File \"/usr/local/lib/python3.10/dist-packages/uvicorn/server.py\", line 62, in run\n",
            "    return asyncio.run(self.serve(sockets=sockets))\n",
            "  File \"/usr/local/lib/python3.10/dist-packages/nest_asyncio.py\", line 26, in run\n",
            "    loop = asyncio.get_event_loop()\n",
            "  File \"/usr/local/lib/python3.10/dist-packages/nest_asyncio.py\", line 40, in _get_event_loop\n",
            "    loop = events.get_event_loop_policy().get_event_loop()\n",
            "  File \"/usr/lib/python3.10/asyncio/events.py\", line 656, in get_event_loop\n",
            "    raise RuntimeError('There is no current event loop in thread %r.'\n",
            "RuntimeError: There is no current event loop in thread 'Thread-15 (run)'.\n",
            "Exception in thread Thread-16 (run):\n",
            "Traceback (most recent call last):\n",
            "  File \"/usr/lib/python3.10/threading.py\", line 1016, in _bootstrap_inner\n",
            "    self.run()\n",
            "  File \"/usr/lib/python3.10/threading.py\", line 953, in run\n",
            "    self._target(*self._args, **self._kwargs)\n",
            "  File \"/usr/local/lib/python3.10/dist-packages/uvicorn/server.py\", line 62, in run\n",
            "    return asyncio.run(self.serve(sockets=sockets))\n",
            "  File \"/usr/local/lib/python3.10/dist-packages/nest_asyncio.py\", line 26, in run\n",
            "    loop = asyncio.get_event_loop()\n",
            "  File \"/usr/local/lib/python3.10/dist-packages/nest_asyncio.py\", line 40, in _get_event_loop\n",
            "    loop = events.get_event_loop_policy().get_event_loop()\n",
            "  File \"/usr/lib/python3.10/asyncio/events.py\", line 656, in get_event_loop\n",
            "    raise RuntimeError('There is no current event loop in thread %r.'\n",
            "RuntimeError: There is no current event loop in thread 'Thread-16 (run)'.\n",
            "Exception in thread Thread-17 (run):\n",
            "Traceback (most recent call last):\n",
            "  File \"/usr/lib/python3.10/threading.py\", line 1016, in _bootstrap_inner\n",
            "    self.run()\n",
            "  File \"/usr/lib/python3.10/threading.py\", line 953, in run\n",
            "    self._target(*self._args, **self._kwargs)\n",
            "  File \"/usr/local/lib/python3.10/dist-packages/uvicorn/server.py\", line 62, in run\n",
            "    return asyncio.run(self.serve(sockets=sockets))\n",
            "  File \"/usr/local/lib/python3.10/dist-packages/nest_asyncio.py\", line 26, in run\n",
            "    loop = asyncio.get_event_loop()\n",
            "  File \"/usr/local/lib/python3.10/dist-packages/nest_asyncio.py\", line 40, in _get_event_loop\n",
            "    loop = events.get_event_loop_policy().get_event_loop()\n",
            "  File \"/usr/lib/python3.10/asyncio/events.py\", line 656, in get_event_loop\n",
            "    raise RuntimeError('There is no current event loop in thread %r.'\n",
            "RuntimeError: There is no current event loop in thread 'Thread-17 (run)'.\n",
            "Exception in thread Thread-18 (run):\n",
            "Traceback (most recent call last):\n",
            "  File \"/usr/lib/python3.10/threading.py\", line 1016, in _bootstrap_inner\n",
            "    self.run()\n",
            "  File \"/usr/lib/python3.10/threading.py\", line 953, in run\n",
            "    self._target(*self._args, **self._kwargs)\n",
            "  File \"/usr/local/lib/python3.10/dist-packages/uvicorn/server.py\", line 62, in run\n",
            "    return asyncio.run(self.serve(sockets=sockets))\n",
            "  File \"/usr/local/lib/python3.10/dist-packages/nest_asyncio.py\", line 26, in run\n",
            "    loop = asyncio.get_event_loop()\n",
            "  File \"/usr/local/lib/python3.10/dist-packages/nest_asyncio.py\", line 40, in _get_event_loop\n",
            "    loop = events.get_event_loop_policy().get_event_loop()\n",
            "  File \"/usr/lib/python3.10/asyncio/events.py\", line 656, in get_event_loop\n",
            "    raise RuntimeError('There is no current event loop in thread %r.'\n",
            "RuntimeError: There is no current event loop in thread 'Thread-18 (run)'.\n",
            "Exception in thread Thread-19 (run):\n",
            "Traceback (most recent call last):\n",
            "  File \"/usr/lib/python3.10/threading.py\", line 1016, in _bootstrap_inner\n",
            "    self.run()\n",
            "  File \"/usr/lib/python3.10/threading.py\", line 953, in run\n",
            "    self._target(*self._args, **self._kwargs)\n",
            "  File \"/usr/local/lib/python3.10/dist-packages/uvicorn/server.py\", line 62, in run\n",
            "    return asyncio.run(self.serve(sockets=sockets))\n",
            "  File \"/usr/local/lib/python3.10/dist-packages/nest_asyncio.py\", line 26, in run\n",
            "    loop = asyncio.get_event_loop()\n",
            "  File \"/usr/local/lib/python3.10/dist-packages/nest_asyncio.py\", line 40, in _get_event_loop\n",
            "    loop = events.get_event_loop_policy().get_event_loop()\n",
            "  File \"/usr/lib/python3.10/asyncio/events.py\", line 656, in get_event_loop\n",
            "    raise RuntimeError('There is no current event loop in thread %r.'\n",
            "RuntimeError: There is no current event loop in thread 'Thread-19 (run)'.\n",
            "Exception in thread Thread-20 (run):\n",
            "Traceback (most recent call last):\n",
            "  File \"/usr/lib/python3.10/threading.py\", line 1016, in _bootstrap_inner\n",
            "    self.run()\n",
            "  File \"/usr/lib/python3.10/threading.py\", line 953, in run\n",
            "    self._target(*self._args, **self._kwargs)\n",
            "  File \"/usr/local/lib/python3.10/dist-packages/uvicorn/server.py\", line 62, in run\n",
            "    return asyncio.run(self.serve(sockets=sockets))\n",
            "  File \"/usr/local/lib/python3.10/dist-packages/nest_asyncio.py\", line 26, in run\n",
            "    loop = asyncio.get_event_loop()\n",
            "  File \"/usr/local/lib/python3.10/dist-packages/nest_asyncio.py\", line 40, in _get_event_loop\n",
            "    loop = events.get_event_loop_policy().get_event_loop()\n",
            "  File \"/usr/lib/python3.10/asyncio/events.py\", line 656, in get_event_loop\n",
            "    raise RuntimeError('There is no current event loop in thread %r.'\n",
            "RuntimeError: There is no current event loop in thread 'Thread-20 (run)'.\n",
            "Exception in thread Thread-21 (run):\n",
            "Traceback (most recent call last):\n",
            "  File \"/usr/lib/python3.10/threading.py\", line 1016, in _bootstrap_inner\n",
            "    self.run()\n",
            "  File \"/usr/lib/python3.10/threading.py\", line 953, in run\n",
            "    self._target(*self._args, **self._kwargs)\n",
            "  File \"/usr/local/lib/python3.10/dist-packages/uvicorn/server.py\", line 62, in run\n",
            "    return asyncio.run(self.serve(sockets=sockets))\n",
            "  File \"/usr/local/lib/python3.10/dist-packages/nest_asyncio.py\", line 26, in run\n",
            "    loop = asyncio.get_event_loop()\n",
            "  File \"/usr/local/lib/python3.10/dist-packages/nest_asyncio.py\", line 40, in _get_event_loop\n",
            "    loop = events.get_event_loop_policy().get_event_loop()\n",
            "  File \"/usr/lib/python3.10/asyncio/events.py\", line 656, in get_event_loop\n",
            "    raise RuntimeError('There is no current event loop in thread %r.'\n",
            "RuntimeError: There is no current event loop in thread 'Thread-21 (run)'.\n",
            "Exception in thread Thread-22 (run):\n",
            "Traceback (most recent call last):\n",
            "  File \"/usr/lib/python3.10/threading.py\", line 1016, in _bootstrap_inner\n",
            "    self.run()\n",
            "  File \"/usr/lib/python3.10/threading.py\", line 953, in run\n",
            "    self._target(*self._args, **self._kwargs)\n",
            "  File \"/usr/local/lib/python3.10/dist-packages/uvicorn/server.py\", line 62, in run\n",
            "    return asyncio.run(self.serve(sockets=sockets))\n",
            "  File \"/usr/local/lib/python3.10/dist-packages/nest_asyncio.py\", line 26, in run\n",
            "    loop = asyncio.get_event_loop()\n",
            "  File \"/usr/local/lib/python3.10/dist-packages/nest_asyncio.py\", line 40, in _get_event_loop\n",
            "    loop = events.get_event_loop_policy().get_event_loop()\n",
            "  File \"/usr/lib/python3.10/asyncio/events.py\", line 656, in get_event_loop\n",
            "    raise RuntimeError('There is no current event loop in thread %r.'\n",
            "RuntimeError: There is no current event loop in thread 'Thread-22 (run)'.\n",
            "Exception in thread Thread-23 (run):\n",
            "Traceback (most recent call last):\n",
            "  File \"/usr/lib/python3.10/threading.py\", line 1016, in _bootstrap_inner\n",
            "    self.run()\n",
            "  File \"/usr/lib/python3.10/threading.py\", line 953, in run\n",
            "    self._target(*self._args, **self._kwargs)\n",
            "  File \"/usr/local/lib/python3.10/dist-packages/uvicorn/server.py\", line 62, in run\n",
            "    return asyncio.run(self.serve(sockets=sockets))\n",
            "  File \"/usr/local/lib/python3.10/dist-packages/nest_asyncio.py\", line 26, in run\n",
            "    loop = asyncio.get_event_loop()\n",
            "  File \"/usr/local/lib/python3.10/dist-packages/nest_asyncio.py\", line 40, in _get_event_loop\n",
            "    loop = events.get_event_loop_policy().get_event_loop()\n",
            "  File \"/usr/lib/python3.10/asyncio/events.py\", line 656, in get_event_loop\n",
            "    raise RuntimeError('There is no current event loop in thread %r.'\n",
            "RuntimeError: There is no current event loop in thread 'Thread-23 (run)'.\n",
            "Exception in thread Thread-24 (run):\n",
            "Traceback (most recent call last):\n",
            "  File \"/usr/lib/python3.10/threading.py\", line 1016, in _bootstrap_inner\n",
            "    self.run()\n",
            "  File \"/usr/lib/python3.10/threading.py\", line 953, in run\n",
            "    self._target(*self._args, **self._kwargs)\n",
            "  File \"/usr/local/lib/python3.10/dist-packages/uvicorn/server.py\", line 62, in run\n",
            "    return asyncio.run(self.serve(sockets=sockets))\n",
            "  File \"/usr/local/lib/python3.10/dist-packages/nest_asyncio.py\", line 26, in run\n",
            "    loop = asyncio.get_event_loop()\n",
            "  File \"/usr/local/lib/python3.10/dist-packages/nest_asyncio.py\", line 40, in _get_event_loop\n",
            "    loop = events.get_event_loop_policy().get_event_loop()\n",
            "  File \"/usr/lib/python3.10/asyncio/events.py\", line 656, in get_event_loop\n",
            "    raise RuntimeError('There is no current event loop in thread %r.'\n",
            "RuntimeError: There is no current event loop in thread 'Thread-24 (run)'.\n",
            "Exception in thread Thread-25 (run):\n",
            "Traceback (most recent call last):\n",
            "  File \"/usr/lib/python3.10/threading.py\", line 1016, in _bootstrap_inner\n",
            "    self.run()\n",
            "  File \"/usr/lib/python3.10/threading.py\", line 953, in run\n",
            "    self._target(*self._args, **self._kwargs)\n",
            "  File \"/usr/local/lib/python3.10/dist-packages/uvicorn/server.py\", line 62, in run\n",
            "    return asyncio.run(self.serve(sockets=sockets))\n",
            "  File \"/usr/local/lib/python3.10/dist-packages/nest_asyncio.py\", line 26, in run\n",
            "    loop = asyncio.get_event_loop()\n",
            "  File \"/usr/local/lib/python3.10/dist-packages/nest_asyncio.py\", line 40, in _get_event_loop\n",
            "    loop = events.get_event_loop_policy().get_event_loop()\n",
            "  File \"/usr/lib/python3.10/asyncio/events.py\", line 656, in get_event_loop\n",
            "    raise RuntimeError('There is no current event loop in thread %r.'\n",
            "RuntimeError: There is no current event loop in thread 'Thread-25 (run)'.\n",
            "Exception in thread Thread-26 (run):\n",
            "Traceback (most recent call last):\n",
            "  File \"/usr/lib/python3.10/threading.py\", line 1016, in _bootstrap_inner\n",
            "    self.run()\n",
            "  File \"/usr/lib/python3.10/threading.py\", line 953, in run\n",
            "    self._target(*self._args, **self._kwargs)\n",
            "  File \"/usr/local/lib/python3.10/dist-packages/uvicorn/server.py\", line 62, in run\n",
            "    return asyncio.run(self.serve(sockets=sockets))\n",
            "  File \"/usr/local/lib/python3.10/dist-packages/nest_asyncio.py\", line 26, in run\n",
            "    loop = asyncio.get_event_loop()\n",
            "  File \"/usr/local/lib/python3.10/dist-packages/nest_asyncio.py\", line 40, in _get_event_loop\n",
            "    loop = events.get_event_loop_policy().get_event_loop()\n",
            "  File \"/usr/lib/python3.10/asyncio/events.py\", line 656, in get_event_loop\n",
            "    raise RuntimeError('There is no current event loop in thread %r.'\n",
            "RuntimeError: There is no current event loop in thread 'Thread-26 (run)'.\n",
            "Exception in thread Thread-27 (run):\n",
            "Traceback (most recent call last):\n",
            "  File \"/usr/lib/python3.10/threading.py\", line 1016, in _bootstrap_inner\n",
            "    self.run()\n",
            "  File \"/usr/lib/python3.10/threading.py\", line 953, in run\n",
            "    self._target(*self._args, **self._kwargs)\n",
            "  File \"/usr/local/lib/python3.10/dist-packages/uvicorn/server.py\", line 62, in run\n",
            "    return asyncio.run(self.serve(sockets=sockets))\n",
            "  File \"/usr/local/lib/python3.10/dist-packages/nest_asyncio.py\", line 26, in run\n",
            "    loop = asyncio.get_event_loop()\n",
            "  File \"/usr/local/lib/python3.10/dist-packages/nest_asyncio.py\", line 40, in _get_event_loop\n",
            "    loop = events.get_event_loop_policy().get_event_loop()\n",
            "  File \"/usr/lib/python3.10/asyncio/events.py\", line 656, in get_event_loop\n",
            "    raise RuntimeError('There is no current event loop in thread %r.'\n",
            "RuntimeError: There is no current event loop in thread 'Thread-27 (run)'.\n",
            "Exception in thread Thread-28 (run):\n",
            "Traceback (most recent call last):\n",
            "  File \"/usr/lib/python3.10/threading.py\", line 1016, in _bootstrap_inner\n",
            "    self.run()\n",
            "  File \"/usr/lib/python3.10/threading.py\", line 953, in run\n",
            "    self._target(*self._args, **self._kwargs)\n",
            "  File \"/usr/local/lib/python3.10/dist-packages/uvicorn/server.py\", line 62, in run\n",
            "    return asyncio.run(self.serve(sockets=sockets))\n",
            "  File \"/usr/local/lib/python3.10/dist-packages/nest_asyncio.py\", line 26, in run\n",
            "    loop = asyncio.get_event_loop()\n",
            "  File \"/usr/local/lib/python3.10/dist-packages/nest_asyncio.py\", line 40, in _get_event_loop\n",
            "    loop = events.get_event_loop_policy().get_event_loop()\n",
            "  File \"/usr/lib/python3.10/asyncio/events.py\", line 656, in get_event_loop\n",
            "    raise RuntimeError('There is no current event loop in thread %r.'\n",
            "RuntimeError: There is no current event loop in thread 'Thread-28 (run)'.\n",
            "Exception in thread Thread-29 (run):\n",
            "Traceback (most recent call last):\n",
            "  File \"/usr/lib/python3.10/threading.py\", line 1016, in _bootstrap_inner\n",
            "    self.run()\n",
            "  File \"/usr/lib/python3.10/threading.py\", line 953, in run\n",
            "    self._target(*self._args, **self._kwargs)\n",
            "  File \"/usr/local/lib/python3.10/dist-packages/uvicorn/server.py\", line 62, in run\n",
            "    return asyncio.run(self.serve(sockets=sockets))\n",
            "  File \"/usr/local/lib/python3.10/dist-packages/nest_asyncio.py\", line 26, in run\n",
            "    loop = asyncio.get_event_loop()\n",
            "  File \"/usr/local/lib/python3.10/dist-packages/nest_asyncio.py\", line 40, in _get_event_loop\n",
            "    loop = events.get_event_loop_policy().get_event_loop()\n",
            "  File \"/usr/lib/python3.10/asyncio/events.py\", line 656, in get_event_loop\n",
            "    raise RuntimeError('There is no current event loop in thread %r.'\n",
            "RuntimeError: There is no current event loop in thread 'Thread-29 (run)'.\n",
            "Exception in thread Thread-30 (run):\n",
            "Traceback (most recent call last):\n",
            "  File \"/usr/lib/python3.10/threading.py\", line 1016, in _bootstrap_inner\n",
            "    self.run()\n",
            "  File \"/usr/lib/python3.10/threading.py\", line 953, in run\n",
            "    self._target(*self._args, **self._kwargs)\n",
            "  File \"/usr/local/lib/python3.10/dist-packages/uvicorn/server.py\", line 62, in run\n",
            "    return asyncio.run(self.serve(sockets=sockets))\n",
            "  File \"/usr/local/lib/python3.10/dist-packages/nest_asyncio.py\", line 26, in run\n",
            "    loop = asyncio.get_event_loop()\n",
            "  File \"/usr/local/lib/python3.10/dist-packages/nest_asyncio.py\", line 40, in _get_event_loop\n",
            "    loop = events.get_event_loop_policy().get_event_loop()\n",
            "  File \"/usr/lib/python3.10/asyncio/events.py\", line 656, in get_event_loop\n",
            "    raise RuntimeError('There is no current event loop in thread %r.'\n",
            "RuntimeError: There is no current event loop in thread 'Thread-30 (run)'.\n",
            "Exception in thread Thread-31 (run):\n",
            "Traceback (most recent call last):\n",
            "  File \"/usr/lib/python3.10/threading.py\", line 1016, in _bootstrap_inner\n",
            "    self.run()\n",
            "  File \"/usr/lib/python3.10/threading.py\", line 953, in run\n",
            "    self._target(*self._args, **self._kwargs)\n",
            "  File \"/usr/local/lib/python3.10/dist-packages/uvicorn/server.py\", line 62, in run\n",
            "    return asyncio.run(self.serve(sockets=sockets))\n",
            "  File \"/usr/local/lib/python3.10/dist-packages/nest_asyncio.py\", line 26, in run\n",
            "    loop = asyncio.get_event_loop()\n",
            "  File \"/usr/local/lib/python3.10/dist-packages/nest_asyncio.py\", line 40, in _get_event_loop\n",
            "    loop = events.get_event_loop_policy().get_event_loop()\n",
            "  File \"/usr/lib/python3.10/asyncio/events.py\", line 656, in get_event_loop\n",
            "    raise RuntimeError('There is no current event loop in thread %r.'\n",
            "RuntimeError: There is no current event loop in thread 'Thread-31 (run)'.\n",
            "Exception in thread Thread-32 (run):\n",
            "Traceback (most recent call last):\n",
            "  File \"/usr/lib/python3.10/threading.py\", line 1016, in _bootstrap_inner\n",
            "    self.run()\n",
            "  File \"/usr/lib/python3.10/threading.py\", line 953, in run\n",
            "    self._target(*self._args, **self._kwargs)\n",
            "  File \"/usr/local/lib/python3.10/dist-packages/uvicorn/server.py\", line 62, in run\n",
            "    return asyncio.run(self.serve(sockets=sockets))\n",
            "  File \"/usr/local/lib/python3.10/dist-packages/nest_asyncio.py\", line 26, in run\n",
            "    loop = asyncio.get_event_loop()\n",
            "  File \"/usr/local/lib/python3.10/dist-packages/nest_asyncio.py\", line 40, in _get_event_loop\n",
            "    loop = events.get_event_loop_policy().get_event_loop()\n",
            "  File \"/usr/lib/python3.10/asyncio/events.py\", line 656, in get_event_loop\n",
            "    raise RuntimeError('There is no current event loop in thread %r.'\n",
            "RuntimeError: There is no current event loop in thread 'Thread-32 (run)'.\n",
            "Exception in thread Thread-33 (run):\n",
            "Traceback (most recent call last):\n",
            "  File \"/usr/lib/python3.10/threading.py\", line 1016, in _bootstrap_inner\n",
            "    self.run()\n",
            "  File \"/usr/lib/python3.10/threading.py\", line 953, in run\n",
            "    self._target(*self._args, **self._kwargs)\n",
            "  File \"/usr/local/lib/python3.10/dist-packages/uvicorn/server.py\", line 62, in run\n",
            "    return asyncio.run(self.serve(sockets=sockets))\n",
            "  File \"/usr/local/lib/python3.10/dist-packages/nest_asyncio.py\", line 26, in run\n",
            "    loop = asyncio.get_event_loop()\n",
            "  File \"/usr/local/lib/python3.10/dist-packages/nest_asyncio.py\", line 40, in _get_event_loop\n",
            "    loop = events.get_event_loop_policy().get_event_loop()\n",
            "  File \"/usr/lib/python3.10/asyncio/events.py\", line 656, in get_event_loop\n",
            "    raise RuntimeError('There is no current event loop in thread %r.'\n",
            "RuntimeError: There is no current event loop in thread 'Thread-33 (run)'.\n",
            "Exception in thread Thread-34 (run):\n",
            "Traceback (most recent call last):\n",
            "  File \"/usr/lib/python3.10/threading.py\", line 1016, in _bootstrap_inner\n",
            "    self.run()\n",
            "  File \"/usr/lib/python3.10/threading.py\", line 953, in run\n",
            "    self._target(*self._args, **self._kwargs)\n",
            "  File \"/usr/local/lib/python3.10/dist-packages/uvicorn/server.py\", line 62, in run\n",
            "    return asyncio.run(self.serve(sockets=sockets))\n",
            "  File \"/usr/local/lib/python3.10/dist-packages/nest_asyncio.py\", line 26, in run\n",
            "    loop = asyncio.get_event_loop()\n",
            "  File \"/usr/local/lib/python3.10/dist-packages/nest_asyncio.py\", line 40, in _get_event_loop\n",
            "    loop = events.get_event_loop_policy().get_event_loop()\n",
            "  File \"/usr/lib/python3.10/asyncio/events.py\", line 656, in get_event_loop\n",
            "    raise RuntimeError('There is no current event loop in thread %r.'\n",
            "RuntimeError: There is no current event loop in thread 'Thread-34 (run)'.\n"
          ]
        },
        {
          "output_type": "error",
          "ename": "KeyboardInterrupt",
          "evalue": "",
          "traceback": [
            "\u001b[0;31m---------------------------------------------------------------------------\u001b[0m",
            "\u001b[0;31mKeyboardInterrupt\u001b[0m                         Traceback (most recent call last)",
            "\u001b[0;32m<ipython-input-17-ee1a0b568c7d>\u001b[0m in \u001b[0;36m<cell line: 10>\u001b[0;34m()\u001b[0m\n\u001b[1;32m      8\u001b[0m \u001b[0;32mimport\u001b[0m \u001b[0mgradio\u001b[0m \u001b[0;32mas\u001b[0m \u001b[0mgr\u001b[0m\u001b[0;34m\u001b[0m\u001b[0;34m\u001b[0m\u001b[0m\n\u001b[1;32m      9\u001b[0m \u001b[0;34m\u001b[0m\u001b[0m\n\u001b[0;32m---> 10\u001b[0;31m gr.ChatInterface(\n\u001b[0m\u001b[1;32m     11\u001b[0m     \u001b[0mgen_response\u001b[0m\u001b[0;34m,\u001b[0m \u001b[0mretry_btn\u001b[0m\u001b[0;34m=\u001b[0m\u001b[0;32mFalse\u001b[0m\u001b[0;34m,\u001b[0m \u001b[0mundo_btn\u001b[0m\u001b[0;34m=\u001b[0m\u001b[0;32mFalse\u001b[0m\u001b[0;34m,\u001b[0m \u001b[0mclear_btn\u001b[0m\u001b[0;34m=\u001b[0m\u001b[0;32mFalse\u001b[0m\u001b[0;34m\u001b[0m\u001b[0;34m\u001b[0m\u001b[0m\n\u001b[1;32m     12\u001b[0m ).queue().launch(debug=True)\n",
            "\u001b[0;32m/usr/local/lib/python3.10/dist-packages/gradio/blocks.py\u001b[0m in \u001b[0;36mlaunch\u001b[0;34m(self, inline, inbrowser, share, debug, enable_queue, max_threads, auth, auth_message, prevent_thread_lock, show_error, server_name, server_port, show_tips, height, width, encrypt, favicon_path, ssl_keyfile, ssl_certfile, ssl_keyfile_password, ssl_verify, quiet, show_api, file_directories, allowed_paths, blocked_paths, root_path, _frontend, app_kwargs, state_session_capacity)\u001b[0m\n\u001b[1;32m   2031\u001b[0m                     \u001b[0mapp\u001b[0m\u001b[0;34m,\u001b[0m\u001b[0;34m\u001b[0m\u001b[0;34m\u001b[0m\u001b[0m\n\u001b[1;32m   2032\u001b[0m                     \u001b[0mserver\u001b[0m\u001b[0;34m,\u001b[0m\u001b[0;34m\u001b[0m\u001b[0;34m\u001b[0m\u001b[0m\n\u001b[0;32m-> 2033\u001b[0;31m                 \u001b[0;34m)\u001b[0m \u001b[0;34m=\u001b[0m \u001b[0mnetworking\u001b[0m\u001b[0;34m.\u001b[0m\u001b[0mstart_server\u001b[0m\u001b[0;34m(\u001b[0m\u001b[0;34m\u001b[0m\u001b[0;34m\u001b[0m\u001b[0m\n\u001b[0m\u001b[1;32m   2034\u001b[0m                     \u001b[0mself\u001b[0m\u001b[0;34m,\u001b[0m\u001b[0;34m\u001b[0m\u001b[0;34m\u001b[0m\u001b[0m\n\u001b[1;32m   2035\u001b[0m                     \u001b[0mserver_name\u001b[0m\u001b[0;34m,\u001b[0m\u001b[0;34m\u001b[0m\u001b[0;34m\u001b[0m\u001b[0m\n",
            "\u001b[0;32m/usr/local/lib/python3.10/dist-packages/gradio/networking.py\u001b[0m in \u001b[0;36mstart_server\u001b[0;34m(blocks, server_name, server_port, ssl_keyfile, ssl_certfile, ssl_keyfile_password, app_kwargs)\u001b[0m\n\u001b[1;32m    200\u001b[0m                 )\n\u001b[1;32m    201\u001b[0m             \u001b[0mserver\u001b[0m \u001b[0;34m=\u001b[0m \u001b[0mServer\u001b[0m\u001b[0;34m(\u001b[0m\u001b[0mconfig\u001b[0m\u001b[0;34m=\u001b[0m\u001b[0mconfig\u001b[0m\u001b[0;34m,\u001b[0m \u001b[0mreloader\u001b[0m\u001b[0;34m=\u001b[0m\u001b[0mreloader\u001b[0m\u001b[0;34m)\u001b[0m\u001b[0;34m\u001b[0m\u001b[0;34m\u001b[0m\u001b[0m\n\u001b[0;32m--> 202\u001b[0;31m             \u001b[0mserver\u001b[0m\u001b[0;34m.\u001b[0m\u001b[0mrun_in_thread\u001b[0m\u001b[0;34m(\u001b[0m\u001b[0;34m)\u001b[0m\u001b[0;34m\u001b[0m\u001b[0;34m\u001b[0m\u001b[0m\n\u001b[0m\u001b[1;32m    203\u001b[0m             \u001b[0;32mbreak\u001b[0m\u001b[0;34m\u001b[0m\u001b[0;34m\u001b[0m\u001b[0m\n\u001b[1;32m    204\u001b[0m         \u001b[0;32mexcept\u001b[0m \u001b[0;34m(\u001b[0m\u001b[0mOSError\u001b[0m\u001b[0;34m,\u001b[0m \u001b[0mServerFailedToStartError\u001b[0m\u001b[0;34m)\u001b[0m\u001b[0;34m:\u001b[0m\u001b[0;34m\u001b[0m\u001b[0;34m\u001b[0m\u001b[0m\n",
            "\u001b[0;32m/usr/local/lib/python3.10/dist-packages/gradio/networking.py\u001b[0m in \u001b[0;36mrun_in_thread\u001b[0;34m(self)\u001b[0m\n\u001b[1;32m     62\u001b[0m         \u001b[0mstart\u001b[0m \u001b[0;34m=\u001b[0m \u001b[0mtime\u001b[0m\u001b[0;34m.\u001b[0m\u001b[0mtime\u001b[0m\u001b[0;34m(\u001b[0m\u001b[0;34m)\u001b[0m\u001b[0;34m\u001b[0m\u001b[0;34m\u001b[0m\u001b[0m\n\u001b[1;32m     63\u001b[0m         \u001b[0;32mwhile\u001b[0m \u001b[0;32mnot\u001b[0m \u001b[0mself\u001b[0m\u001b[0;34m.\u001b[0m\u001b[0mstarted\u001b[0m\u001b[0;34m:\u001b[0m\u001b[0;34m\u001b[0m\u001b[0;34m\u001b[0m\u001b[0m\n\u001b[0;32m---> 64\u001b[0;31m             \u001b[0mtime\u001b[0m\u001b[0;34m.\u001b[0m\u001b[0msleep\u001b[0m\u001b[0;34m(\u001b[0m\u001b[0;36m1e-3\u001b[0m\u001b[0;34m)\u001b[0m\u001b[0;34m\u001b[0m\u001b[0;34m\u001b[0m\u001b[0m\n\u001b[0m\u001b[1;32m     65\u001b[0m             \u001b[0;32mif\u001b[0m \u001b[0mtime\u001b[0m\u001b[0;34m.\u001b[0m\u001b[0mtime\u001b[0m\u001b[0;34m(\u001b[0m\u001b[0;34m)\u001b[0m \u001b[0;34m-\u001b[0m \u001b[0mstart\u001b[0m \u001b[0;34m>\u001b[0m \u001b[0;36m5\u001b[0m\u001b[0;34m:\u001b[0m\u001b[0;34m\u001b[0m\u001b[0;34m\u001b[0m\u001b[0m\n\u001b[1;32m     66\u001b[0m                 raise ServerFailedToStartError(\n",
            "\u001b[0;31mKeyboardInterrupt\u001b[0m: "
          ]
        }
      ]
    },
    {
      "cell_type": "markdown",
      "source": [
        "# Final Exercise"
      ],
      "metadata": {
        "id": "-I4884lZC97t"
      }
    },
    {
      "cell_type": "code",
      "source": [
        "\"\"\"\n",
        "Use the data provided in \"transactions.csv\" to create a budgeting agent.\n",
        "\n",
        "Your agent should use the following tools:\n",
        "- Retrieval from \"transactions.csv\"\n",
        "- Calculator\n",
        "\n",
        "Answer the following questions:\n",
        "\n",
        "What was my income in December?\n",
        "What’s the address for the restaurant I went to on December 12th?\n",
        "I live in San Francisco. Do you think I’m paying too much for rent?\n",
        "\"\"\"\n"
      ],
      "metadata": {
        "id": "b5oh1dpYLTbD",
        "colab": {
          "base_uri": "https://localhost:8080/"
        },
        "outputId": "f8d7026f-b5a1-4651-b38d-3cbd8d813346"
      },
      "execution_count": null,
      "outputs": [
        {
          "output_type": "stream",
          "name": "stdout",
          "text": [
            "--2024-01-11 20:01:44--  https://drive.google.com/uc?export=download&id=1-jD-CO7UmHG_RsPuNEMTopqqcfmKUr87\n",
            "Resolving drive.google.com (drive.google.com)... 142.250.98.100, 142.250.98.101, 142.250.98.102, ...\n",
            "Connecting to drive.google.com (drive.google.com)|142.250.98.100|:443... connected.\n",
            "HTTP request sent, awaiting response... 303 See Other\n",
            "Location: https://drive.usercontent.google.com/download?id=1-jD-CO7UmHG_RsPuNEMTopqqcfmKUr87&export=download [following]\n",
            "--2024-01-11 20:01:44--  https://drive.usercontent.google.com/download?id=1-jD-CO7UmHG_RsPuNEMTopqqcfmKUr87&export=download\n",
            "Resolving drive.usercontent.google.com (drive.usercontent.google.com)... 173.194.217.132, 2607:f8b0:400c:c13::84\n",
            "Connecting to drive.usercontent.google.com (drive.usercontent.google.com)|173.194.217.132|:443... connected.\n",
            "HTTP request sent, awaiting response... 200 OK\n",
            "Length: 1938 (1.9K) [application/octet-stream]\n",
            "Saving to: ‘transactions.csv’\n",
            "\n",
            "transactions.csv    100%[===================>]   1.89K  --.-KB/s    in 0s      \n",
            "\n",
            "2024-01-11 20:01:45 (145 MB/s) - ‘transactions.csv’ saved [1938/1938]\n",
            "\n"
          ]
        },
        {
          "output_type": "execute_result",
          "data": {
            "text/plain": [
              "[Document(page_content='Date: 2023-12-01\\nDescription: Monthly Salary\\nAmount: 3000\\nCategory: Income\\nSubcategory: Salary', metadata={'row': 25, 'source': 'transactions.csv'}),\n",
              " Document(page_content='Date: 2023-12-18\\nDescription: Monthly Salary\\nAmount: 3000\\nCategory: Income\\nSubcategory: Salary', metadata={'row': 32, 'source': 'transactions.csv'}),\n",
              " Document(page_content='Date: 2023-11-20\\nDescription: Monthly Salary\\nAmount: 3000\\nCategory: Income\\nSubcategory: Salary', metadata={'row': 20, 'source': 'transactions.csv'}),\n",
              " Document(page_content='Date: 2023-11-01\\nDescription: Monthly Salary\\nAmount: 3000\\nCategory: Income\\nSubcategory: Salary', metadata={'row': 13, 'source': 'transactions.csv'})]"
            ]
          },
          "metadata": {},
          "execution_count": 39
        }
      ]
    }
  ]
}