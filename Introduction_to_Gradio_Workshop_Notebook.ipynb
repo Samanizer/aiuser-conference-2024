{
  "cells": [
    {
      "cell_type": "markdown",
      "metadata": {
        "id": "S2v8iazjMkwQ"
      },
      "source": [
        "# Step by Step Introduction to Gradio Workshop 🌟🤖👥"
      ]
    },
    {
      "cell_type": "code",
      "execution_count": null,
      "metadata": {
        "id": "v7o6MHdTXwqH"
      },
      "outputs": [],
      "source": [
        "# Install Gradio\n",
        "!pip install gradio\n",
        "\n",
        "# Install TensorFlow\n",
        "!pip install tensorflow\n",
        "\n",
        "# Install PyTorch\n",
        "!pip install pytorch\n",
        "\n",
        "# Install Pillow\n",
        "!pip install Pillow"
      ]
    },
    {
      "cell_type": "markdown",
      "metadata": {
        "id": "mcm-ChId6IdB"
      },
      "source": [
        "## Import Libraries"
      ]
    },
    {
      "cell_type": "code",
      "execution_count": 4,
      "metadata": {
        "id": "nfsxNer1Xx7w"
      },
      "outputs": [],
      "source": [
        "# Import necessary libraries\n",
        "import gradio as gr"
      ]
    },
    {
      "cell_type": "markdown",
      "metadata": {
        "id": "XxxZ_0Ek6SsL"
      },
      "source": [
        "## Simple Example of Gradio in Action"
      ]
    },
    {
      "cell_type": "code",
      "execution_count": 5,
      "metadata": {
        "colab": {
          "base_uri": "https://localhost:8080/",
          "height": 647
        },
        "id": "hdD5baw6-lqF",
        "outputId": "4c439929-ba33-4e13-93b3-5f7ae990e0f2"
      },
      "outputs": [
        {
          "output_type": "stream",
          "name": "stdout",
          "text": [
            "Setting queue=True in a Colab notebook requires sharing enabled. Setting `share=True` (you can turn this off by setting `share=False` in `launch()` explicitly).\n",
            "\n",
            "Colab notebook detected. To show errors in colab notebook, set debug=True in launch()\n",
            "Running on public URL: https://417159f09a98648e87.gradio.live\n",
            "\n",
            "This share link expires in 72 hours. For free permanent hosting and GPU upgrades, run `gradio deploy` from Terminal to deploy to Spaces (https://huggingface.co/spaces)\n"
          ]
        },
        {
          "output_type": "display_data",
          "data": {
            "text/plain": [
              "<IPython.core.display.HTML object>"
            ],
            "text/html": [
              "<div><iframe src=\"https://417159f09a98648e87.gradio.live\" width=\"100%\" height=\"500\" allow=\"autoplay; camera; microphone; clipboard-read; clipboard-write;\" frameborder=\"0\" allowfullscreen></iframe></div>"
            ]
          },
          "metadata": {}
        },
        {
          "output_type": "execute_result",
          "data": {
            "text/plain": []
          },
          "metadata": {},
          "execution_count": 5
        }
      ],
      "source": [
        "# Simple Example from the Developer\n",
        "import gradio as gr\n",
        "\n",
        "def greet(name, intensity):\n",
        "    return \"Hello \" * intensity + name + \"!\"\n",
        "\n",
        "demo = gr.Interface(\n",
        "    fn=greet,\n",
        "    inputs=[\"text\", \"slider\"],\n",
        "    outputs=[\"text\"],\n",
        ")\n",
        "\n",
        "demo.launch()"
      ]
    },
    {
      "cell_type": "markdown",
      "source": [
        "# Core Features of Gradio\n",
        "\n",
        "#### 1. **Input Components**\n",
        "   - Input components in Gradio define the type of data that users will provide to your model.\n",
        "   - **Common Types**: Textbox for text input, Image for image uploads, Audio for sound files, and many more. For a complete list of Gradio components, visit https://www.gradio.app/docs/components\n",
        "   - **Customization**: Each input type can be customized with parameters like default values, size, or allowed file types.\n",
        "   - **Example**:\n",
        "     ```python\n",
        "     text_input = gr.inputs.Textbox(lines=2, placeholder=\"Enter Text Here\")\n",
        "     image_input = gr.inputs.Image(shape=(224, 224))\n",
        "     ```\n",
        "\n",
        "#### 2. **Output Components**\n",
        "   - Output components specify how the results from your model are displayed to the user.\n",
        "   - **Variety**: Includes simple text, images, labels, audio, and complex outputs like JSON or HTML.\n",
        "   - **Adaptability**: You can choose the output type that best suits the nature of your model's results.\n",
        "   - **Example**:\n",
        "     ```python\n",
        "     text_output = gr.outputs.Textbox()\n",
        "     image_output = gr.outputs.Image(type=\"pil\")\n",
        "     ```\n",
        "\n",
        "#### 3. **The Interface Class**\n",
        "   - The Interface class ties together the input and output components with your machine learning model.\n",
        "   - **Functionality**: It defines the function that will be called with the inputs and how its outputs will be handled.\n",
        "   - **Flexibility**: Supports various configurations, accommodating simple function calls to more complex workflows.\n",
        "   - **Example**:\n",
        "     ```python\n",
        "     def my_model_function(input1, input2):\n",
        "         # Model processing logic\n",
        "         return output\n",
        "\n",
        "     iface = gr.Interface(\n",
        "         fn=my_model_function,\n",
        "         inputs=[text_input, image_input],\n",
        "         outputs=text_output\n",
        "     )\n",
        "     iface.launch()\n",
        "     ```\n",
        "\n",
        "\n",
        "\n",
        "\n",
        "---"
      ],
      "metadata": {
        "id": "uNGQ67h0aeIV"
      }
    },
    {
      "cell_type": "markdown",
      "source": [
        "# Building Blocks in Gradio: Creating Interactive Elements\n",
        "\n",
        "\n",
        "#### 1. **Sliders**\n",
        "   - Sliders are great for numerical inputs where users can select a value from a range.\n",
        "   - **Use Case**: Adjusting a parameter like image brightness or model threshold.\n",
        "   - **Python Snippet**:\n",
        "     ```python\n",
        "     import gradio as gr\n",
        "\n",
        "     def adjust_brightness(image, brightness):\n",
        "         # Function to adjust brightness\n",
        "         return image.point(lambda p: p * brightness)\n",
        "\n",
        "     iface = gr.Interface(\n",
        "         adjust_brightness,\n",
        "         inputs=[gr.Image(), gr.Slider(minimum=0.5, maximum=3.0, default=1.0)],\n",
        "         outputs=gr.Image()\n",
        "     )\n",
        "     ```\n",
        "\n",
        "#### 2. **Dropdowns**\n",
        "   - Dropdown menus allow users to select an option from a predefined list.\n",
        "   - **Use Case**: Choosing a model or a specific type of analysis.\n",
        "   - **Python Snippet**:\n",
        "     ```python\n",
        "     def model_selection(image, model_name):\n",
        "         # Function to process image based on selected model\n",
        "         return process_image(image, model_name)\n",
        "\n",
        "     iface = gr.Interface(\n",
        "         model_selection,\n",
        "         inputs=[gr.Image(), gr.Dropdown([\"Model A\", \"Model B\", \"Model C\"])],\n",
        "         outputs=gr.Image()\n",
        "     )\n",
        "     ```\n",
        "\n",
        "#### 3. **Buttons**\n",
        "   - Buttons can trigger actions such as processing data or toggling a setting.\n",
        "   - **Use Case**: Submitting an image for processing or refreshing the interface.\n",
        "   - **Python Snippet**:\n",
        "     ```python\n",
        "     def process_data(data):\n",
        "         # Function to process data\n",
        "         return analyze_data(data)\n",
        "\n",
        "     iface = gr.Interface(\n",
        "         process_data,\n",
        "         inputs=[gr.Textbox(), gr.Button(\"Analyze\")],\n",
        "         outputs=gr.Textbox()\n",
        "     )\n",
        "     ```"
      ],
      "metadata": {
        "id": "gR0vNBv9Wz-6"
      }
    },
    {
      "cell_type": "markdown",
      "source": [
        "# Layout and Design in Gradio Interfaces\n",
        "\n",
        "#### Python Snippet for Layout:\n",
        "\n",
        "```python\n",
        "import gradio as gr\n",
        "\n",
        "def apply_filter(image, filter_type):\n",
        "    # Image processing logic here\n",
        "    return processed_image\n",
        "\n",
        "with gr.Blocks() as demo:\n",
        "    with gr.Row():\n",
        "        with gr.Column():\n",
        "            upload = gr.Image(label=\"Upload Image\")\n",
        "            filter_dropdown = gr.Dropdown(label=\"Select Filter\", choices=[\"Filter A\", \"Filter B\"])\n",
        "        with gr.Column():\n",
        "            output_image = gr.Image(label=\"Processed Image\")\n",
        "    \n",
        "    filter_button = gr.Button(\"Apply Filter\")\n",
        "    filter_button.click(apply_filter, inputs=[upload, filter_dropdown], outputs=output_image)\n",
        "\n",
        "demo.launch()\n",
        "```\n",
        "\n",
        "#### Key Layout Elements:\n",
        "- **Two Columns**: One for inputs (image upload and filter selection) and one for the output (processed image).\n",
        "- **Row**: To align the columns side by side.\n",
        "- **Button Outside Columns**: For a clear call to action.\n"
      ],
      "metadata": {
        "id": "5VNU4UjhXj-a"
      }
    },
    {
      "cell_type": "markdown",
      "metadata": {
        "id": "yVgDKWLpEuty"
      },
      "source": [
        "# Create a Gradio Interface with the ```Interface``` class"
      ]
    },
    {
      "cell_type": "code",
      "execution_count": null,
      "metadata": {
        "colab": {
          "base_uri": "https://localhost:8080/",
          "height": 648
        },
        "id": "oBMBwS7qE9rC",
        "outputId": "81717c51-2c03-41fd-8252-88e588a2e256"
      },
      "outputs": [
        {
          "output_type": "stream",
          "name": "stdout",
          "text": [
            "Setting queue=True in a Colab notebook requires sharing enabled. Setting `share=True` (you can turn this off by setting `share=False` in `launch()` explicitly).\n",
            "\n",
            "Colab notebook detected. To show errors in colab notebook, set debug=True in launch()\n",
            "Running on public URL: https://f96c35771153e492ef.gradio.live\n",
            "\n",
            "This share link expires in 72 hours. For free permanent hosting and GPU upgrades, run `gradio deploy` from Terminal to deploy to Spaces (https://huggingface.co/spaces)\n"
          ]
        },
        {
          "output_type": "display_data",
          "data": {
            "text/plain": [
              "<IPython.core.display.HTML object>"
            ],
            "text/html": [
              "<div><iframe src=\"https://f96c35771153e492ef.gradio.live\" width=\"100%\" height=\"500\" allow=\"autoplay; camera; microphone; clipboard-read; clipboard-write;\" frameborder=\"0\" allowfullscreen></iframe></div>"
            ]
          },
          "metadata": {}
        },
        {
          "output_type": "execute_result",
          "data": {
            "text/plain": []
          },
          "metadata": {},
          "execution_count": 9
        }
      ],
      "source": [
        "# Here is an example from the documentation\n",
        "\n",
        "import gradio as gr\n",
        "\n",
        "def image_classifier(inp):\n",
        "    return {'cat': 0.3, 'dog': 0.7}\n",
        "\n",
        "demo = gr.Interface(fn=image_classifier, inputs=\"image\", outputs=\"label\")\n",
        "demo.launch()"
      ]
    },
    {
      "cell_type": "markdown",
      "metadata": {
        "id": "_CnT4ZFffVRh"
      },
      "source": [
        "## Interface Class Methods\n",
        "\n",
        "The Interface class has five main methods:\n",
        "\n",
        "1. ```launch```\n",
        "\n",
        "2. ```load```\n",
        "\n",
        "3. ```from_pipeline```\n",
        "\n",
        "4. ```integrate```\n",
        "\n",
        "5. ```queue```\n",
        "\n",
        "The following sections will show examples of each of these methods in action.\n",
        "\n",
        "---"
      ]
    },
    {
      "cell_type": "markdown",
      "metadata": {
        "id": "_sZQ-gl3FF9V"
      },
      "source": [
        "### Launch the Interface\n",
        "\n",
        "```gradio.Interface.launch(···)```"
      ]
    },
    {
      "cell_type": "markdown",
      "metadata": {
        "id": "y1H91OkFEi_-"
      },
      "source": [
        "We use the gradio interface class ```launch``` method to serve the web demo."
      ]
    },
    {
      "cell_type": "code",
      "execution_count": null,
      "metadata": {
        "colab": {
          "base_uri": "https://localhost:8080/",
          "height": 612
        },
        "id": "Kn4qkl78eHiz",
        "outputId": "bb3691bf-174f-40f5-d89d-da59d4e0ec3f"
      },
      "outputs": [
        {
          "output_type": "stream",
          "name": "stdout",
          "text": [
            "Colab notebook detected. To show errors in colab notebook, set debug=True in launch()\n",
            "Running on public URL: https://69220a99535603c3b8.gradio.live\n",
            "\n",
            "This share link expires in 72 hours. For free permanent hosting and GPU upgrades, run `gradio deploy` from Terminal to deploy to Spaces (https://huggingface.co/spaces)\n"
          ]
        },
        {
          "output_type": "display_data",
          "data": {
            "text/plain": [
              "<IPython.core.display.HTML object>"
            ],
            "text/html": [
              "<div><iframe src=\"https://69220a99535603c3b8.gradio.live\" width=\"100%\" height=\"500\" allow=\"autoplay; camera; microphone; clipboard-read; clipboard-write;\" frameborder=\"0\" allowfullscreen></iframe></div>"
            ]
          },
          "metadata": {}
        },
        {
          "output_type": "execute_result",
          "data": {
            "text/plain": []
          },
          "metadata": {},
          "execution_count": 5
        }
      ],
      "source": [
        "# Example from documentation\n",
        "\n",
        "import gradio as gr\n",
        "def reverse(text):\n",
        "    return text[::-1]\n",
        "demo = gr.Interface(reverse, \"text\", \"text\")\n",
        "demo.launch(share=True)"
      ]
    },
    {
      "cell_type": "markdown",
      "metadata": {
        "id": "U-f9D0L0gjOy"
      },
      "source": [
        "---\n",
        "### Load the Interface\n",
        "\n",
        "```gradio.Interface.load(block, ···)```"
      ]
    },
    {
      "cell_type": "markdown",
      "metadata": {
        "id": "z7HOtwLlhL8L"
      },
      "source": [
        "The ```load``` method is a listener that is triggered when an Interface is first launched in a browser. It has one required parameter, ```block```, which takes a value of ```None```.\n",
        "\n",
        "For a detailed list of all parameters that can be passed to the ```load``` method, please see https://www.gradio.app/docs/interface#interface-load"
      ]
    },
    {
      "cell_type": "markdown",
      "metadata": {
        "id": "ySFxRt1NFcd4"
      },
      "source": [
        "---"
      ]
    },
    {
      "cell_type": "markdown",
      "metadata": {
        "id": "u9ZCBjeJFJye"
      },
      "source": [
        "### Create an Interface from a HuggingFaceTransformer\n",
        "```gradio.Interface.from_pipeline(pipeline, ···)```\n",
        "\n",
        "The ```from_pipeline``` method creates an interface from a HuggingFaceTransformer pipeline object. The input and output components are automatically selected."
      ]
    },
    {
      "cell_type": "code",
      "execution_count": null,
      "metadata": {
        "colab": {
          "base_uri": "https://localhost:8080/",
          "height": 887,
          "referenced_widgets": [
            "446b303401e644a0a66fadf90fac625e",
            "675efa4d298a435db0605179277f4340",
            "5a02c8c495d349acbdbed71f386068a2",
            "8873d490ef7b4b05a2216d6c3a736743",
            "27c0fe06e794465ea46db700d36a185f",
            "e2363660ce0844caae89edb106bb3e89",
            "ec212a49005141f784219fce9f31d47a",
            "14f365e25a3149d18f7f1868e94883ea",
            "c6506c0c58584866b977d4a5e937374a",
            "1e78b69eadbf49e7afb058c83eb53f1d",
            "e48ab917d6764b76a2c802506cfe3893",
            "42b73a1ca44e4b43ad87cd6d62100930",
            "f56a1935c1914499a4c366656420a4db",
            "415c790cd87746d88e7a35ca9b55d57d",
            "52ab530dff954d64bf12c9a76a81b7a2",
            "9e6336cf6ab442c29d4c390f3783e11a",
            "9718055c07744f6fbce2d25de780b329",
            "3833db9291c04948b45e1ff6070fbaca",
            "3d07f9e1196a447a980c37c920f443e9",
            "b0550a7f0c1d488082ab273a04bdeb11",
            "61b54af65b3e4673bf8bdaf7ac664c9b",
            "7833458623964e44a4ae5ef63a02f390",
            "4956ab3de1a8489c8994acee7339c457",
            "d4a8fc32e0e14faaad573231bd038ce5",
            "3d2bc53faaac484b80746df732076dcc",
            "da81222f3f4540a28a708b1ccff02775",
            "b222f50eef274a7aa70e00298d138357",
            "147c892cdc50455ea466493abf84369c",
            "32aea6bb7516481487cd9f41f621f66d",
            "6cbc4c4092094336b8f78a1bbe1450ad",
            "4405ef1ddecb465ab8454e0cc2698f5e",
            "92c99cc35c2947b4a9e807f97faea31a",
            "0bf05350a41f43adb0a5cc63682c84d2"
          ]
        },
        "id": "vEFw36EEHGfc",
        "outputId": "b8e55780-b2fb-4193-a951-181401f4c7ca"
      },
      "outputs": [
        {
          "output_type": "stream",
          "name": "stderr",
          "text": [
            "No model was supplied, defaulted to google/vit-base-patch16-224 and revision 5dca96d (https://huggingface.co/google/vit-base-patch16-224).\n",
            "Using a pipeline without specifying a model name and revision in production is not recommended.\n",
            "/usr/local/lib/python3.10/dist-packages/huggingface_hub/utils/_token.py:88: UserWarning: \n",
            "The secret `HF_TOKEN` does not exist in your Colab secrets.\n",
            "To authenticate with the Hugging Face Hub, create a token in your settings tab (https://huggingface.co/settings/tokens), set it as secret in your Google Colab and restart your session.\n",
            "You will be able to reuse this secret in all of your notebooks.\n",
            "Please note that authentication is recommended but still optional to access public models or datasets.\n",
            "  warnings.warn(\n"
          ]
        },
        {
          "output_type": "display_data",
          "data": {
            "text/plain": [
              "config.json:   0%|          | 0.00/69.7k [00:00<?, ?B/s]"
            ],
            "application/vnd.jupyter.widget-view+json": {
              "version_major": 2,
              "version_minor": 0,
              "model_id": "446b303401e644a0a66fadf90fac625e"
            }
          },
          "metadata": {}
        },
        {
          "output_type": "display_data",
          "data": {
            "text/plain": [
              "model.safetensors:   0%|          | 0.00/346M [00:00<?, ?B/s]"
            ],
            "application/vnd.jupyter.widget-view+json": {
              "version_major": 2,
              "version_minor": 0,
              "model_id": "42b73a1ca44e4b43ad87cd6d62100930"
            }
          },
          "metadata": {}
        },
        {
          "output_type": "display_data",
          "data": {
            "text/plain": [
              "preprocessor_config.json:   0%|          | 0.00/160 [00:00<?, ?B/s]"
            ],
            "application/vnd.jupyter.widget-view+json": {
              "version_major": 2,
              "version_minor": 0,
              "model_id": "4956ab3de1a8489c8994acee7339c457"
            }
          },
          "metadata": {}
        },
        {
          "output_type": "stream",
          "name": "stdout",
          "text": [
            "Setting queue=True in a Colab notebook requires sharing enabled. Setting `share=True` (you can turn this off by setting `share=False` in `launch()` explicitly).\n",
            "\n",
            "Colab notebook detected. To show errors in colab notebook, set debug=True in launch()\n",
            "Running on public URL: https://98d6472129b9c5237a.gradio.live\n",
            "\n",
            "This share link expires in 72 hours. For free permanent hosting and GPU upgrades, run `gradio deploy` from Terminal to deploy to Spaces (https://huggingface.co/spaces)\n"
          ]
        },
        {
          "output_type": "display_data",
          "data": {
            "text/plain": [
              "<IPython.core.display.HTML object>"
            ],
            "text/html": [
              "<div><iframe src=\"https://98d6472129b9c5237a.gradio.live\" width=\"100%\" height=\"500\" allow=\"autoplay; camera; microphone; clipboard-read; clipboard-write;\" frameborder=\"0\" allowfullscreen></iframe></div>"
            ]
          },
          "metadata": {}
        },
        {
          "output_type": "execute_result",
          "data": {
            "text/plain": []
          },
          "metadata": {},
          "execution_count": 10
        }
      ],
      "source": [
        "# Example from documentation\n",
        "\n",
        "import gradio as gr\n",
        "from transformers import pipeline\n",
        "pipe = pipeline(\"image-classification\")\n",
        "gr.Interface.from_pipeline(pipe).launch()"
      ]
    },
    {
      "cell_type": "markdown",
      "metadata": {
        "id": "gVouJo4hRzoM"
      },
      "source": [
        "### Handling concurrent requests\n",
        "\n",
        "```gradio.Interface.queue(···)```"
      ]
    },
    {
      "cell_type": "markdown",
      "metadata": {
        "id": "x1YvwTkoUXJZ"
      },
      "source": [
        "The ```queue``` method allows users to know their position in a queue and you can also set a limit on the maximum number of events allowed. This is a great way of managing traffic to your web app.\n",
        "\n",
        "---"
      ]
    },
    {
      "cell_type": "code",
      "execution_count": null,
      "metadata": {
        "colab": {
          "base_uri": "https://localhost:8080/",
          "height": 648
        },
        "id": "3XRKkKOdT9Sd",
        "outputId": "8cda451d-edcc-4cda-c5ec-22c58c7fe729"
      },
      "outputs": [
        {
          "output_type": "stream",
          "name": "stdout",
          "text": [
            "Setting queue=True in a Colab notebook requires sharing enabled. Setting `share=True` (you can turn this off by setting `share=False` in `launch()` explicitly).\n",
            "\n",
            "Colab notebook detected. To show errors in colab notebook, set debug=True in launch()\n",
            "Running on public URL: https://8978266af026186d56.gradio.live\n",
            "\n",
            "This share link expires in 72 hours. For free permanent hosting and GPU upgrades, run `gradio deploy` from Terminal to deploy to Spaces (https://huggingface.co/spaces)\n"
          ]
        },
        {
          "output_type": "display_data",
          "data": {
            "text/plain": [
              "<IPython.core.display.HTML object>"
            ],
            "text/html": [
              "<div><iframe src=\"https://8978266af026186d56.gradio.live\" width=\"100%\" height=\"500\" allow=\"autoplay; camera; microphone; clipboard-read; clipboard-write;\" frameborder=\"0\" allowfullscreen></iframe></div>"
            ]
          },
          "metadata": {}
        },
        {
          "output_type": "execute_result",
          "data": {
            "text/plain": []
          },
          "metadata": {},
          "execution_count": 11
        }
      ],
      "source": [
        "import gradio as gr\n",
        "import time\n",
        "\n",
        "# Define a function that takes a number and returns its square after a delay\n",
        "def time_consuming_square(number):\n",
        "    time.sleep(5)  # Simulates a time-consuming task\n",
        "    return number ** 2\n",
        "\n",
        "# Create the Gradio interface\n",
        "iface = gr.Interface(\n",
        "    fn=time_consuming_square,  # The function to wrap\n",
        "    inputs=\"number\",          # Input type\n",
        "    outputs=\"number\"          # Output type\n",
        ")\n",
        "\n",
        "# Enable queueing for the interface\n",
        "iface.queue()\n",
        "\n",
        "# Launch the interface\n",
        "iface.launch()\n"
      ]
    },
    {
      "cell_type": "markdown",
      "metadata": {
        "id": "oG4fPRQpZNhj"
      },
      "source": [
        "When you run this code, it will start a local web server hosting the Gradio interface. Users can input a number, and even if multiple users access the interface simultaneously, their requests will be queued and processed one after another, each taking 5 seconds to complete.\n",
        "\n",
        "---"
      ]
    },
    {
      "cell_type": "markdown",
      "metadata": {
        "id": "y6vRmKK-qwAw"
      },
      "source": [
        "# Create a Gradio Interface with the ChatInterface class\n",
        "\n",
        "```gradio.ChatInterface(fn, ···)```"
      ]
    },
    {
      "cell_type": "markdown",
      "metadata": {
        "id": "SdTI5ru5ysGb"
      },
      "source": [
        "The ```ChatInterface``` class in Gradio enables rapid development of chatbot interfaces. At its core, the essential parameter is ```fn```, which refers to a custom function defined by the developer. This function embodies the logic of your chatbot, determining how it responds to user inputs based on the provided conversation context. By simply defining this function, ```ChatInterface``` allows you to integrate complex chat logic into a user-friendly chat interface. This makes it an ideal tool for creating interactive demos, prototypes, or even production-ready chatbots with minimal setup.\n",
        "\n",
        "For a complete guide on how to create chatbots with Gradio, please visit: https://www.gradio.app/guides/creating-a-chatbot-fast"
      ]
    },
    {
      "cell_type": "code",
      "source": [
        "import gradio as gr\n",
        "import random\n",
        "\n",
        "def movie_recommender(message, context):\n",
        "    movie_recommendations = {\n",
        "        \"action\": [\"Inception\", \"Mad Max: Fury Road\", \"Die Hard\"],\n",
        "        \"comedy\": [\"Superbad\", \"The Hangover\", \"Groundhog Day\"],\n",
        "        \"drama\": [\"The Shawshank Redemption\", \"Forrest Gump\", \"The Godfather\"],\n",
        "        \"horror\": [\"The Shining\", \"Get Out\", \"Psycho\"],\n",
        "        \"sci-fi\": [\"Blade Runner 2049\", \"Interstellar\", \"The Matrix\"]\n",
        "    }\n",
        "\n",
        "    genre = message.lower().strip()\n",
        "\n",
        "    if genre in movie_recommendations:\n",
        "        recommended_movie = random.choice(movie_recommendations[genre])\n",
        "        return f\"How about watching '{recommended_movie}'? It's a great {genre} movie!\"\n",
        "    else:\n",
        "        return \"I'm not sure about that genre. Please choose from action, comedy, drama, horror, or sci-fi.\"\n",
        "\n",
        "chat_interface = gr.ChatInterface(\n",
        "    fn=movie_recommender,\n",
        "    title=\"Movie Recommender Chatbot\",\n",
        "    description=\"I can recommend movies based on your favorite genre. Just tell me your favorite genre (like Action, Comedy, Drama, Horror, Sci-Fi), and I'll suggest a movie for you!\"\n",
        ")\n",
        "\n",
        "chat_interface.launch(debug=True)\n"
      ],
      "metadata": {
        "colab": {
          "base_uri": "https://localhost:8080/",
          "height": 684
        },
        "id": "ddnuuafQVlX0",
        "outputId": "05e29dc3-6353-4428-dba2-9e56b6554a54"
      },
      "execution_count": null,
      "outputs": [
        {
          "output_type": "stream",
          "name": "stdout",
          "text": [
            "Setting queue=True in a Colab notebook requires sharing enabled. Setting `share=True` (you can turn this off by setting `share=False` in `launch()` explicitly).\n",
            "\n",
            "Colab notebook detected. This cell will run indefinitely so that you can see errors and logs. To turn off, set debug=False in launch().\n",
            "Running on public URL: https://293aeb6754248145e2.gradio.live\n",
            "\n",
            "This share link expires in 72 hours. For free permanent hosting and GPU upgrades, run `gradio deploy` from Terminal to deploy to Spaces (https://huggingface.co/spaces)\n"
          ]
        },
        {
          "output_type": "display_data",
          "data": {
            "text/plain": [
              "<IPython.core.display.HTML object>"
            ],
            "text/html": [
              "<div><iframe src=\"https://293aeb6754248145e2.gradio.live\" width=\"100%\" height=\"500\" allow=\"autoplay; camera; microphone; clipboard-read; clipboard-write;\" frameborder=\"0\" allowfullscreen></iframe></div>"
            ]
          },
          "metadata": {}
        },
        {
          "output_type": "stream",
          "name": "stdout",
          "text": [
            "Keyboard interruption in main thread... closing server.\n",
            "Killing tunnel 127.0.0.1:7867 <> https://293aeb6754248145e2.gradio.live\n"
          ]
        },
        {
          "output_type": "execute_result",
          "data": {
            "text/plain": []
          },
          "metadata": {},
          "execution_count": 14
        }
      ]
    },
    {
      "cell_type": "markdown",
      "metadata": {
        "id": "JwwTW-FTjPH2"
      },
      "source": [
        "# Create a Gradio Interface with the ```TabbedInterface``` class\n",
        "\n",
        "```gradio.TabbedInterface(interface_list, ···)```"
      ]
    },
    {
      "cell_type": "code",
      "execution_count": null,
      "metadata": {
        "colab": {
          "base_uri": "https://localhost:8080/",
          "height": 684
        },
        "id": "UKfM60YrkstV",
        "outputId": "5a47324c-e475-4003-8555-66d28a373a52"
      },
      "outputs": [
        {
          "output_type": "stream",
          "name": "stdout",
          "text": [
            "Setting queue=True in a Colab notebook requires sharing enabled. Setting `share=True` (you can turn this off by setting `share=False` in `launch()` explicitly).\n",
            "\n",
            "Colab notebook detected. This cell will run indefinitely so that you can see errors and logs. To turn off, set debug=False in launch().\n",
            "Running on public URL: https://0f79120a5a4837b777.gradio.live\n",
            "\n",
            "This share link expires in 72 hours. For free permanent hosting and GPU upgrades, run `gradio deploy` from Terminal to deploy to Spaces (https://huggingface.co/spaces)\n"
          ]
        },
        {
          "output_type": "display_data",
          "data": {
            "text/plain": [
              "<IPython.core.display.HTML object>"
            ],
            "text/html": [
              "<div><iframe src=\"https://0f79120a5a4837b777.gradio.live\" width=\"100%\" height=\"500\" allow=\"autoplay; camera; microphone; clipboard-read; clipboard-write;\" frameborder=\"0\" allowfullscreen></iframe></div>"
            ]
          },
          "metadata": {}
        },
        {
          "output_type": "stream",
          "name": "stdout",
          "text": [
            "Keyboard interruption in main thread... closing server.\n",
            "Killing tunnel 127.0.0.1:7868 <> https://0f79120a5a4837b777.gradio.live\n"
          ]
        },
        {
          "output_type": "execute_result",
          "data": {
            "text/plain": []
          },
          "metadata": {},
          "execution_count": 19
        }
      ],
      "source": [
        "import gradio as gr\n",
        "import random\n",
        "from PIL import Image, ImageOps\n",
        "\n",
        "def classify_image(image):\n",
        "    \"\"\"\n",
        "    Classify an image into a random category.\n",
        "\n",
        "    Parameters:\n",
        "    image (PIL.Image): The image to classify.\n",
        "\n",
        "    Returns:\n",
        "    str: The classification result.\n",
        "    \"\"\"\n",
        "    # Mock classification categories\n",
        "    categories = [\"Animal\", \"Vehicle\", \"Nature\", \"Food\", \"Cityscape\"]\n",
        "    # Randomly select a category\n",
        "    category = random.choice(categories)\n",
        "    return f\"Classified as: {category}\"\n",
        "\n",
        "def enhance_image(image):\n",
        "    \"\"\"\n",
        "    Enhance an image by converting it to grayscale.\n",
        "\n",
        "    Parameters:\n",
        "    image (PIL.Image): The image to enhance.\n",
        "\n",
        "    Returns:\n",
        "    PIL.Image: The enhanced image.\n",
        "    \"\"\"\n",
        "    # Ensure the image is in the correct format (PIL Image)\n",
        "    image = Image.fromarray(image)\n",
        "    if not isinstance(image, Image.Image):\n",
        "        raise ValueError(\"The input is not a valid PIL Image object.\")\n",
        "\n",
        "    # Convert the image to grayscale\n",
        "    enhanced_image = ImageOps.grayscale(image)\n",
        "    return enhanced_image\n",
        "\n",
        "# Create the first interface for image classification\n",
        "image_classifier = gr.Interface(\n",
        "    fn=classify_image,\n",
        "    inputs=gr.Image(label='Upload Image'),\n",
        "    outputs=gr.Textbox(label='Classification Result'),\n",
        "    title='Image Classifier'\n",
        ")\n",
        "\n",
        "# Create the second interface for image enhancement\n",
        "image_enhancer = gr.Interface(\n",
        "    fn=enhance_image,\n",
        "    inputs=gr.Image(label='Upload Image'),\n",
        "    outputs=gr.Image(label='Enhanced Image'),\n",
        "    title='Image Enhancer'\n",
        ")\n",
        "\n",
        "# Create a TabbedInterface with the two interfaces\n",
        "tabbed_interface = gr.TabbedInterface(\n",
        "    interface_list=[image_classifier, image_enhancer],\n",
        "    tab_names=['Image Classification', 'Image Enhancement'],\n",
        "    title='Image Processing App'\n",
        ")\n",
        "\n",
        "# Launch the application\n",
        "tabbed_interface.launch(debug=True)\n"
      ]
    },
    {
      "cell_type": "markdown",
      "source": [
        "# Create a Customized Gradio Interface with the Blocks Class"
      ],
      "metadata": {
        "id": "l-tFN6dDgl1D"
      }
    },
    {
      "cell_type": "markdown",
      "metadata": {
        "id": "18076aaf-1af2-4daf-8a16-a4c671cbb2f5"
      },
      "source": [
        "Gradio's Blocks class offers advanced flexibility and customization for building more complex and dynamic machine learning interfaces. It is particularly useful for creating custom layouts and incorporating multiple models or components in a single interface. Unlike the standard Interface class, Blocks allows for more intricate designs and layouts. It's akin to building with Lego blocks, where each block can be a different input, output, or even custom HTML/JavaScript elements.\n",
        "\n",
        "For a detailed list of the arguments you can pass to this class, please visit: https://www.gradio.app/docs/blocks. You can also read more about the various types of block layouts such as rows, columns, tabs, and groups, and accordion in the documentation."
      ]
    },
    {
      "cell_type": "markdown",
      "metadata": {
        "id": "86c5a513-dc38-49f5-a352-22992c2b7b8d"
      },
      "source": [
        "### Syntax\n",
        "\n",
        "```with gr.Blocks():```"
      ]
    },
    {
      "cell_type": "markdown",
      "metadata": {
        "id": "a3b6eaec-b72c-4039-9f9e-bf0a0b4fb5f1"
      },
      "source": [
        "### Example"
      ]
    },
    {
      "cell_type": "code",
      "execution_count": null,
      "metadata": {
        "id": "289ddfb5-33f3-497a-920d-23ac9700ee20",
        "outputId": "8f59a4a9-dc28-4fd8-ba0d-7657658bf3d4",
        "colab": {
          "base_uri": "https://localhost:8080/",
          "height": 648
        }
      },
      "outputs": [
        {
          "output_type": "stream",
          "name": "stdout",
          "text": [
            "Setting queue=True in a Colab notebook requires sharing enabled. Setting `share=True` (you can turn this off by setting `share=False` in `launch()` explicitly).\n",
            "\n",
            "Colab notebook detected. To show errors in colab notebook, set debug=True in launch()\n",
            "Running on public URL: https://22e32cbc0242065480.gradio.live\n",
            "\n",
            "This share link expires in 72 hours. For free permanent hosting and GPU upgrades, run `gradio deploy` from Terminal to deploy to Spaces (https://huggingface.co/spaces)\n"
          ]
        },
        {
          "output_type": "display_data",
          "data": {
            "text/plain": [
              "<IPython.core.display.HTML object>"
            ],
            "text/html": [
              "<div><iframe src=\"https://22e32cbc0242065480.gradio.live\" width=\"100%\" height=\"500\" allow=\"autoplay; camera; microphone; clipboard-read; clipboard-write;\" frameborder=\"0\" allowfullscreen></iframe></div>"
            ]
          },
          "metadata": {}
        },
        {
          "output_type": "execute_result",
          "data": {
            "text/plain": []
          },
          "metadata": {},
          "execution_count": 20
        }
      ],
      "source": [
        "import gradio as gr\n",
        "def update(name):\n",
        "    return f\"Welcome to Gradio, {name}!\"\n",
        "\n",
        "with gr.Blocks() as demo:\n",
        "    gr.Markdown(\"Start typing below and then click **Run** to see the output.\")\n",
        "    with gr.Row():\n",
        "        inp = gr.Textbox(placeholder=\"What is your name?\")\n",
        "        out = gr.Textbox()\n",
        "    btn = gr.Button(\"Run\")\n",
        "    btn.click(fn=update, inputs=inp, outputs=out)\n",
        "\n",
        "demo.launch()"
      ]
    },
    {
      "cell_type": "markdown",
      "metadata": {
        "id": "YWIK8a37FLnM"
      },
      "source": [
        "# Advanced Features"
      ]
    },
    {
      "cell_type": "markdown",
      "source": [
        "## State Management"
      ],
      "metadata": {
        "id": "sNGYHu7BF8UP"
      }
    },
    {
      "cell_type": "markdown",
      "source": [
        "### Example: Counting Button Presses"
      ],
      "metadata": {
        "id": "zCZPAPyeGJR3"
      }
    },
    {
      "cell_type": "code",
      "execution_count": null,
      "metadata": {
        "id": "D7SkLl5cFBfp",
        "colab": {
          "base_uri": "https://localhost:8080/",
          "height": 648
        },
        "outputId": "6b4a8ca0-7ba1-465b-8900-8e77078fa4dd"
      },
      "outputs": [
        {
          "output_type": "stream",
          "name": "stdout",
          "text": [
            "Setting queue=True in a Colab notebook requires sharing enabled. Setting `share=True` (you can turn this off by setting `share=False` in `launch()` explicitly).\n",
            "\n",
            "Colab notebook detected. To show errors in colab notebook, set debug=True in launch()\n",
            "Running on public URL: https://005738a011cd897187.gradio.live\n",
            "\n",
            "This share link expires in 72 hours. For free permanent hosting and GPU upgrades, run `gradio deploy` from Terminal to deploy to Spaces (https://huggingface.co/spaces)\n"
          ]
        },
        {
          "output_type": "display_data",
          "data": {
            "text/plain": [
              "<IPython.core.display.HTML object>"
            ],
            "text/html": [
              "<div><iframe src=\"https://005738a011cd897187.gradio.live\" width=\"100%\" height=\"500\" allow=\"autoplay; camera; microphone; clipboard-read; clipboard-write;\" frameborder=\"0\" allowfullscreen></iframe></div>"
            ]
          },
          "metadata": {}
        },
        {
          "output_type": "execute_result",
          "data": {
            "text/plain": []
          },
          "metadata": {},
          "execution_count": 21
        }
      ],
      "source": [
        "# Counting Button Presses\n",
        "\n",
        "import gradio as gr\n",
        "\n",
        "counter = 0  # Global variable to keep track of the counter\n",
        "\n",
        "def update_counter():\n",
        "    global counter\n",
        "    counter += 1\n",
        "    return counter\n",
        "\n",
        "with gr.Blocks() as demo:\n",
        "    gr.Markdown(\"Press the button to increase the counter:\")\n",
        "    with gr.Row():\n",
        "        button = gr.Button(\"Increase Counter\")\n",
        "        output = gr.Textbox(label=\"Counter Value\", value=\"0\")\n",
        "    button.click(fn=update_counter, outputs=output)\n",
        "\n",
        "demo.launch()\n"
      ]
    },
    {
      "cell_type": "markdown",
      "source": [
        "## Custom Styling"
      ],
      "metadata": {
        "id": "fyKJluMdE_YI"
      }
    },
    {
      "cell_type": "markdown",
      "source": [
        "### Example: Custom CSS Styling in a Gradio Interface"
      ],
      "metadata": {
        "id": "KA3na-4kGsqX"
      }
    },
    {
      "cell_type": "code",
      "source": [
        "import gradio as gr\n",
        "\n",
        "def greet(name):\n",
        "    return f\"Hello, {name}!\"\n",
        "\n",
        "# Sophisticated and modern CSS styling\n",
        "css = \"\"\"\n",
        "body {\n",
        "    font-family: 'Montserrat', sans-serif;\n",
        "    background-color: #232526;  /* Background color is a gradient */\n",
        "    background-image: linear-gradient(315deg, #232526 0%, #414345 74%);\n",
        "    color: #dfe6e9;\n",
        "    text-align: center;\n",
        "    padding: 20px;\n",
        "}\n",
        "h1 {\n",
        "    color: #f6b93b;  /* A warm shade for titles */\n",
        "    font-size: 2.5em;\n",
        "    margin-bottom: 0.5em;\n",
        "}\n",
        "button {\n",
        "    background-color: #00a8ff;  /* A vivid blue for buttons */\n",
        "    color: white;\n",
        "    border: none;\n",
        "    border-radius: 50px;\n",
        "    padding: 15px 30px;\n",
        "    margin: 20px 10px;\n",
        "    font-size: 18px;\n",
        "    font-weight: bold;\n",
        "    cursor: pointer;\n",
        "    transition: background-color 0.3s, transform 0.3s, box-shadow 0.3s;\n",
        "    box-shadow: 0 4px 15px rgba(0,0,0,0.2);\n",
        "}\n",
        "button:hover {\n",
        "    background-color: #0097e6;\n",
        "    transform: translateY(-3px);\n",
        "    box-shadow: 0 6px 20px rgba(0,0,0,0.3);\n",
        "}\n",
        ".textbox, .label {\n",
        "    color: #f5f6fa;\n",
        "    font-weight: bold;\n",
        "}\n",
        ".textbox {\n",
        "    border: 2px solid #00a8ff;\n",
        "    border-radius: 25px;\n",
        "    padding: 10px 20px;\n",
        "    margin: 10px 0;\n",
        "    background-color: transparent;\n",
        "    color: white;\n",
        "}\n",
        ".textbox:focus {\n",
        "    outline: none;\n",
        "    box-shadow: 0 0 5px #00a8ff;\n",
        "}\n",
        "\"\"\"\n",
        "\n",
        "with gr.Blocks(css=css) as demo:\n",
        "    gr.Markdown(\"# Modern Gradio Interface\")\n",
        "    with gr.Row():\n",
        "        name_input = gr.Textbox(placeholder=\"Enter your name here\", label=\"Your Name\")\n",
        "        greet_button = gr.Button(\"Greet\")\n",
        "        output = gr.Textbox(label=\"Greeting\")\n",
        "    greet_button.click(fn=greet, inputs=name_input, outputs=output)\n",
        "\n",
        "demo.launch()\n"
      ],
      "metadata": {
        "colab": {
          "base_uri": "https://localhost:8080/",
          "height": 648
        },
        "id": "-kS5ht_ZG6LP",
        "outputId": "c955cce3-b4ff-41cc-a688-58ad05336382"
      },
      "execution_count": null,
      "outputs": [
        {
          "output_type": "stream",
          "name": "stdout",
          "text": [
            "Setting queue=True in a Colab notebook requires sharing enabled. Setting `share=True` (you can turn this off by setting `share=False` in `launch()` explicitly).\n",
            "\n",
            "Colab notebook detected. To show errors in colab notebook, set debug=True in launch()\n",
            "Running on public URL: https://8ea197a73aa95f8ba6.gradio.live\n",
            "\n",
            "This share link expires in 72 hours. For free permanent hosting and GPU upgrades, run `gradio deploy` from Terminal to deploy to Spaces (https://huggingface.co/spaces)\n"
          ]
        },
        {
          "output_type": "display_data",
          "data": {
            "text/plain": [
              "<IPython.core.display.HTML object>"
            ],
            "text/html": [
              "<div><iframe src=\"https://8ea197a73aa95f8ba6.gradio.live\" width=\"100%\" height=\"500\" allow=\"autoplay; camera; microphone; clipboard-read; clipboard-write;\" frameborder=\"0\" allowfullscreen></iframe></div>"
            ]
          },
          "metadata": {}
        },
        {
          "output_type": "execute_result",
          "data": {
            "text/plain": []
          },
          "metadata": {},
          "execution_count": 22
        }
      ]
    },
    {
      "cell_type": "markdown",
      "source": [
        "## Putting it all together\n",
        "\n",
        "In this example, we will create a more complex Gradio app combining the advanced features of state management and custom styles in a multi-step data analysis tool."
      ],
      "metadata": {
        "id": "A7JCnUgROjoR"
      }
    },
    {
      "cell_type": "markdown",
      "source": [
        "### Multi-step Data Analysis Tool"
      ],
      "metadata": {
        "id": "LqPZzSZTOztj"
      }
    },
    {
      "cell_type": "code",
      "source": [
        "import gradio as gr\n",
        "import pandas as pd\n",
        "import seaborn as sns\n",
        "import matplotlib.pyplot as plt\n",
        "\n",
        "# Initialize a global variable for state management\n",
        "is_transformed = False\n",
        "\n",
        "def process_data(upload, transform):\n",
        "    global is_transformed\n",
        "    if upload is None:\n",
        "        return None, \"Please upload a dataset.\", is_transformed\n",
        "\n",
        "    df = pd.read_csv(upload)\n",
        "    if not is_transformed:\n",
        "        if transform == \"Sort\":\n",
        "            df = df.sort_values(df.columns[0])\n",
        "        elif transform == \"Filter\":\n",
        "            # Filter the dataset to show top 10 rows based on the first column\n",
        "            df = df.nlargest(10, df.columns[0])\n",
        "        is_transformed = True\n",
        "    else:\n",
        "        is_transformed = False\n",
        "\n",
        "    plt.figure(figsize=(8, 4))\n",
        "    sns.barplot(data=df)\n",
        "    plt.xticks(rotation=45, ha=\"right\")\n",
        "    plt.tight_layout()\n",
        "    plt.savefig(\"output.png\")\n",
        "    plt.close()\n",
        "\n",
        "    return \"output.png\", \"Data processed successfully.\", is_transformed\n",
        "\n",
        "\n",
        "    plt.figure(figsize=(8, 4))\n",
        "    sns.barplot(data=df)\n",
        "    plt.xticks(rotation=45, ha=\"right\")\n",
        "    plt.tight_layout()\n",
        "    plt.savefig(\"output.png\")\n",
        "    plt.close()\n",
        "\n",
        "    return \"output.png\", \"Data processed successfully.\", is_transformed\n",
        "\n",
        "# Stylish CSS\n",
        "css = \"\"\"\n",
        "body {\n",
        "    font-family: 'Arial', sans-serif;\n",
        "    background-color: #F0F2F5;\n",
        "}\n",
        "button {\n",
        "    background-color: #4CAF50;\n",
        "    color: white;\n",
        "    padding: 10px 20px;\n",
        "    border: none;\n",
        "    border-radius: 5px;\n",
        "    cursor: pointer;\n",
        "    transition: background-color 0.2s;\n",
        "}\n",
        "button:hover {\n",
        "    background-color: #45a049;\n",
        "}\n",
        "\"\"\"\n",
        "\n",
        "with gr.Blocks(css=css) as demo:\n",
        "    gr.Markdown(\"## Multi-Step Data Analysis Tool\")\n",
        "    with gr.Row():\n",
        "        file_upload = gr.File(label=\"Upload Dataset (CSV)\")\n",
        "        transform_select = gr.Radio([\"None\", \"Sort\", \"Filter\"], label=\"Transform Data\", value=\"None\")\n",
        "        transform_button = gr.Button(\"Apply Transformation\")\n",
        "    with gr.Row():\n",
        "        output_image = gr.Image(label=\"Visualization\")\n",
        "        output_text = gr.Textbox(label=\"Status\")\n",
        "\n",
        "    transform_button.click(\n",
        "        fn=process_data,\n",
        "        inputs=[file_upload, transform_select],\n",
        "        outputs=[output_image, output_text]\n",
        "    )\n",
        "\n",
        "demo.launch()\n"
      ],
      "metadata": {
        "colab": {
          "base_uri": "https://localhost:8080/",
          "height": 648
        },
        "id": "4A5nJU6sNRD-",
        "outputId": "d7913d83-19f7-4742-fec8-69913065c703"
      },
      "execution_count": null,
      "outputs": [
        {
          "output_type": "stream",
          "name": "stdout",
          "text": [
            "Setting queue=True in a Colab notebook requires sharing enabled. Setting `share=True` (you can turn this off by setting `share=False` in `launch()` explicitly).\n",
            "\n",
            "Colab notebook detected. To show errors in colab notebook, set debug=True in launch()\n",
            "Running on public URL: https://bc438b0db34ac22ead.gradio.live\n",
            "\n",
            "This share link expires in 72 hours. For free permanent hosting and GPU upgrades, run `gradio deploy` from Terminal to deploy to Spaces (https://huggingface.co/spaces)\n"
          ]
        },
        {
          "output_type": "display_data",
          "data": {
            "text/plain": [
              "<IPython.core.display.HTML object>"
            ],
            "text/html": [
              "<div><iframe src=\"https://bc438b0db34ac22ead.gradio.live\" width=\"100%\" height=\"500\" allow=\"autoplay; camera; microphone; clipboard-read; clipboard-write;\" frameborder=\"0\" allowfullscreen></iframe></div>"
            ]
          },
          "metadata": {}
        },
        {
          "output_type": "execute_result",
          "data": {
            "text/plain": []
          },
          "metadata": {},
          "execution_count": 23
        }
      ]
    },
    {
      "cell_type": "markdown",
      "source": [
        "# Integrate Gradio with ML Models\n",
        "\n",
        "Gradio can also tntegrate various types of machine learning models. Let's create an example that demonstrates how to connect a simple machine learning model from scikit-learn, a TensorFlow neural network model, and a PyTorch model with a Gradio interface."
      ],
      "metadata": {
        "id": "FaQm0eFZDxwj"
      }
    },
    {
      "cell_type": "markdown",
      "source": [
        "## Scikit-Learn Model Integration"
      ],
      "metadata": {
        "id": "CnzSA8-sHXml"
      }
    },
    {
      "cell_type": "code",
      "source": [
        "import gradio as gr\n",
        "from sklearn import datasets, svm\n",
        "from sklearn.preprocessing import StandardScaler\n",
        "import numpy as np\n",
        "\n",
        "# Load iris dataset and train a simple SVM classifier\n",
        "iris = datasets.load_iris()\n",
        "X, y = iris.data, iris.target\n",
        "scaler = StandardScaler()\n",
        "X_scaled = scaler.fit_transform(X)\n",
        "clf = svm.SVC()\n",
        "clf.fit(X_scaled, y)\n",
        "\n",
        "def predict_iris(sepal_length, sepal_width, petal_length, petal_width):\n",
        "    X_test = np.array([[sepal_length, sepal_width, petal_length, petal_width]])\n",
        "    X_test_scaled = scaler.transform(X_test)\n",
        "    prediction = clf.predict(X_test_scaled)\n",
        "    return iris.target_names[prediction][0]\n",
        "\n",
        "iris_interface = gr.Interface(\n",
        "    fn=predict_iris,\n",
        "    inputs=[gr.Number(label=name) for name in iris.feature_names],\n",
        "    outputs=\"text\",\n",
        "    title=\"Iris Species Classifier\",\n",
        "    description=\"Predict the species of an iris plant based on sepal and petal measurements.\"\n",
        ")\n",
        "\n",
        "iris_interface.launch()"
      ],
      "metadata": {
        "colab": {
          "base_uri": "https://localhost:8080/",
          "height": 648
        },
        "id": "w3YLe7ooG2CF",
        "outputId": "92252d22-0416-4dc4-fec7-1195517433d9"
      },
      "execution_count": null,
      "outputs": [
        {
          "output_type": "stream",
          "name": "stdout",
          "text": [
            "Setting queue=True in a Colab notebook requires sharing enabled. Setting `share=True` (you can turn this off by setting `share=False` in `launch()` explicitly).\n",
            "\n",
            "Colab notebook detected. To show errors in colab notebook, set debug=True in launch()\n",
            "Running on public URL: https://21d259c33dfc25d62b.gradio.live\n",
            "\n",
            "This share link expires in 72 hours. For free permanent hosting and GPU upgrades, run `gradio deploy` from Terminal to deploy to Spaces (https://huggingface.co/spaces)\n"
          ]
        },
        {
          "output_type": "display_data",
          "data": {
            "text/plain": [
              "<IPython.core.display.HTML object>"
            ],
            "text/html": [
              "<div><iframe src=\"https://21d259c33dfc25d62b.gradio.live\" width=\"100%\" height=\"500\" allow=\"autoplay; camera; microphone; clipboard-read; clipboard-write;\" frameborder=\"0\" allowfullscreen></iframe></div>"
            ]
          },
          "metadata": {}
        },
        {
          "output_type": "execute_result",
          "data": {
            "text/plain": []
          },
          "metadata": {},
          "execution_count": 24
        }
      ]
    },
    {
      "cell_type": "markdown",
      "source": [
        "## TensorFlow Integration"
      ],
      "metadata": {
        "id": "Gv6Sj-gMIM2P"
      }
    },
    {
      "cell_type": "code",
      "source": [
        "import tensorflow as tf\n",
        "import gradio as gr\n",
        "from tensorflow.keras.applications.mobilenet_v2 import preprocess_input, decode_predictions\n",
        "from PIL import Image\n",
        "import numpy as np\n",
        "\n",
        "# Load the pre-trained MobileNetV2 model\n",
        "model = tf.keras.applications.MobileNetV2(weights=\"imagenet\", include_top=True)\n",
        "\n",
        "def predict_image_tf(img):\n",
        "    try:\n",
        "        # Convert PIL image to numpy array\n",
        "        img_array = np.array(img)\n",
        "\n",
        "        # Resize the image to 224x224 for the model\n",
        "        img_array = tf.image.resize(img_array, (224, 224))\n",
        "\n",
        "        # Preprocess the image for MobileNetV2\n",
        "        img_array = preprocess_input(img_array)\n",
        "\n",
        "        # Add a batch dimension and predict\n",
        "        img_array = np.expand_dims(img_array, axis=0)\n",
        "        prediction = model.predict(img_array)\n",
        "\n",
        "        # Decode the prediction\n",
        "        decoded = decode_predictions(prediction, top=3)[0]\n",
        "        return [(label, np.round(prob, 4)) for (_, label, prob) in decoded]\n",
        "    except Exception as e:\n",
        "        return str(e)\n",
        "\n",
        "tf_interface = gr.Interface(\n",
        "    fn=predict_image_tf,\n",
        "    inputs=gr.Image(),\n",
        "    outputs=\"text\",\n",
        "    title=\"MobileNetV2 Image Classifier\",\n",
        "    description=\"Upload an image to classify with TensorFlow's MobileNetV2.\"\n",
        ")\n",
        "\n",
        "tf_interface.launch()\n"
      ],
      "metadata": {
        "colab": {
          "base_uri": "https://localhost:8080/",
          "height": 684
        },
        "id": "EfFe7fFsIYn1",
        "outputId": "b6723f05-85f3-4b0c-a5ee-a7854bfc9643"
      },
      "execution_count": null,
      "outputs": [
        {
          "output_type": "stream",
          "name": "stdout",
          "text": [
            "Downloading data from https://storage.googleapis.com/tensorflow/keras-applications/mobilenet_v2/mobilenet_v2_weights_tf_dim_ordering_tf_kernels_1.0_224.h5\n",
            "14536120/14536120 [==============================] - 1s 0us/step\n",
            "Setting queue=True in a Colab notebook requires sharing enabled. Setting `share=True` (you can turn this off by setting `share=False` in `launch()` explicitly).\n",
            "\n",
            "Colab notebook detected. To show errors in colab notebook, set debug=True in launch()\n",
            "Running on public URL: https://e503f75dd67c66e7c0.gradio.live\n",
            "\n",
            "This share link expires in 72 hours. For free permanent hosting and GPU upgrades, run `gradio deploy` from Terminal to deploy to Spaces (https://huggingface.co/spaces)\n"
          ]
        },
        {
          "output_type": "display_data",
          "data": {
            "text/plain": [
              "<IPython.core.display.HTML object>"
            ],
            "text/html": [
              "<div><iframe src=\"https://e503f75dd67c66e7c0.gradio.live\" width=\"100%\" height=\"500\" allow=\"autoplay; camera; microphone; clipboard-read; clipboard-write;\" frameborder=\"0\" allowfullscreen></iframe></div>"
            ]
          },
          "metadata": {}
        },
        {
          "output_type": "execute_result",
          "data": {
            "text/plain": []
          },
          "metadata": {},
          "execution_count": 25
        }
      ]
    },
    {
      "cell_type": "markdown",
      "source": [
        "## PyTorch Integration"
      ],
      "metadata": {
        "id": "yxbKHeo_KiBg"
      }
    },
    {
      "cell_type": "code",
      "source": [
        "import torch\n",
        "import torchvision.transforms as transforms\n",
        "import torchvision.models as models\n",
        "import gradio as gr\n",
        "from PIL import Image\n",
        "import numpy as np\n",
        "\n",
        "# Load a pre-trained ResNet18 model\n",
        "model = models.resnet18(pretrained=True)\n",
        "model.eval()\n",
        "\n",
        "# Define the transform\n",
        "transform = transforms.Compose([\n",
        "    transforms.Resize(256),\n",
        "    transforms.CenterCrop(224),\n",
        "    transforms.ToTensor(),\n",
        "    transforms.Normalize(mean=[0.485, 0.456, 0.406], std=[0.229, 0.224, 0.225]),\n",
        "])\n",
        "\n",
        "# Define the prediction function\n",
        "def predict_image_pytorch(img):\n",
        "    # Convert the NumPy array to a PIL Image\n",
        "    img = Image.fromarray(img.astype('uint8'), 'RGB')\n",
        "\n",
        "    # Apply the transformations\n",
        "    img_t = transform(img).unsqueeze(0)\n",
        "\n",
        "    with torch.no_grad():\n",
        "        outputs = model(img_t)\n",
        "        _, indices = torch.topk(outputs, 5)\n",
        "\n",
        "    # Assuming ImageNet class labels are used\n",
        "    labels = [line.strip() for line in open(\"imagenet_labels.txt\").readlines()]\n",
        "    return [labels[idx] for idx in indices[0]]\n",
        "\n",
        "# Create the Gradio interface\n",
        "interface = gr.Interface(\n",
        "    fn=predict_image_pytorch,\n",
        "    inputs=gr.Image(),\n",
        "    outputs=\"text\",\n",
        "    title=\"PyTorch ResNet18 Image Classifier\",\n",
        "    description=\"Upload an image to classify with PyTorch's ResNet18 model.\"\n",
        ")\n",
        "\n",
        "interface.launch()\n"
      ],
      "metadata": {
        "colab": {
          "base_uri": "https://localhost:8080/",
          "height": 755
        },
        "id": "3oGinZJoKwjv",
        "outputId": "acfc85cd-6a86-4b34-fc27-ed503529fa53"
      },
      "execution_count": null,
      "outputs": [
        {
          "output_type": "stream",
          "name": "stderr",
          "text": [
            "/usr/local/lib/python3.10/dist-packages/torchvision/models/_utils.py:208: UserWarning: The parameter 'pretrained' is deprecated since 0.13 and may be removed in the future, please use 'weights' instead.\n",
            "  warnings.warn(\n",
            "/usr/local/lib/python3.10/dist-packages/torchvision/models/_utils.py:223: UserWarning: Arguments other than a weight enum or `None` for 'weights' are deprecated since 0.13 and may be removed in the future. The current behavior is equivalent to passing `weights=ResNet18_Weights.IMAGENET1K_V1`. You can also use `weights=ResNet18_Weights.DEFAULT` to get the most up-to-date weights.\n",
            "  warnings.warn(msg)\n",
            "Downloading: \"https://download.pytorch.org/models/resnet18-f37072fd.pth\" to /root/.cache/torch/hub/checkpoints/resnet18-f37072fd.pth\n",
            "100%|██████████| 44.7M/44.7M [00:03<00:00, 13.2MB/s]\n"
          ]
        },
        {
          "output_type": "stream",
          "name": "stdout",
          "text": [
            "Setting queue=True in a Colab notebook requires sharing enabled. Setting `share=True` (you can turn this off by setting `share=False` in `launch()` explicitly).\n",
            "\n",
            "Colab notebook detected. To show errors in colab notebook, set debug=True in launch()\n",
            "Running on public URL: https://ec35acb20ca038b1d9.gradio.live\n",
            "\n",
            "This share link expires in 72 hours. For free permanent hosting and GPU upgrades, run `gradio deploy` from Terminal to deploy to Spaces (https://huggingface.co/spaces)\n"
          ]
        },
        {
          "output_type": "display_data",
          "data": {
            "text/plain": [
              "<IPython.core.display.HTML object>"
            ],
            "text/html": [
              "<div><iframe src=\"https://ec35acb20ca038b1d9.gradio.live\" width=\"100%\" height=\"500\" allow=\"autoplay; camera; microphone; clipboard-read; clipboard-write;\" frameborder=\"0\" allowfullscreen></iframe></div>"
            ]
          },
          "metadata": {}
        },
        {
          "output_type": "execute_result",
          "data": {
            "text/plain": []
          },
          "metadata": {},
          "execution_count": 26
        }
      ]
    },
    {
      "cell_type": "markdown",
      "source": [
        "# Sources\n",
        "\n",
        "1. [Official Gradio Documentation\n",
        "Gradio Docs](https://www.gradio.app/docs/interface): Comprehensive guide and reference for all Gradio functionalities.\n",
        "2. [Gradio GitHub Repository\n",
        "Gradio on GitHub](https://github.com/gradio-app/gradio): Access the source code, examples, and community contributions.\n",
        "3. [Tutorials and Articles\n",
        "Gradio Medium Blog](https://medium.com/search?q=Gradio): A collection of articles and tutorials on various Gradio use cases.\n",
        "Towards Data Science: Search for Gradio articles for practical insights and tips.\n",
        "4. [Online Courses and Videos\n",
        "Gradio YouTube Channel](https://www.youtube.com/results?search_query=gradio): Watch tutorials and project showcases.\n",
        "\n",
        "5. [DeepLearning.AI TensorFlow Specialization](https://www.coursera.org/professional-certificates/tensorflow-in-practice): For understanding TensorFlow in-depth.\n",
        "\n",
        "6. [Deep Neural Networks with Pytorch](https://www.coursera.org/learn/deep-neural-networks-with-pytorch): For understanding PyTorch in-depth.\n",
        "\n",
        "5. [Gradio on Hugging Face](https://huggingface.co/gradio): Share your Gradio projects, interact and collaborate with other Gradio users.\n"
      ],
      "metadata": {
        "id": "R1ugqtxUnuB2"
      }
    }
  ],
  "metadata": {
    "colab": {
      "provenance": [],
      "gpuType": "T4"
    },
    "kernelspec": {
      "display_name": "Python 3",
      "name": "python3"
    },
    "language_info": {
      "name": "python"
    },
    "widgets": {
      "application/vnd.jupyter.widget-state+json": {
        "446b303401e644a0a66fadf90fac625e": {
          "model_module": "@jupyter-widgets/controls",
          "model_name": "HBoxModel",
          "model_module_version": "1.5.0",
          "state": {
            "_dom_classes": [],
            "_model_module": "@jupyter-widgets/controls",
            "_model_module_version": "1.5.0",
            "_model_name": "HBoxModel",
            "_view_count": null,
            "_view_module": "@jupyter-widgets/controls",
            "_view_module_version": "1.5.0",
            "_view_name": "HBoxView",
            "box_style": "",
            "children": [
              "IPY_MODEL_675efa4d298a435db0605179277f4340",
              "IPY_MODEL_5a02c8c495d349acbdbed71f386068a2",
              "IPY_MODEL_8873d490ef7b4b05a2216d6c3a736743"
            ],
            "layout": "IPY_MODEL_27c0fe06e794465ea46db700d36a185f"
          }
        },
        "675efa4d298a435db0605179277f4340": {
          "model_module": "@jupyter-widgets/controls",
          "model_name": "HTMLModel",
          "model_module_version": "1.5.0",
          "state": {
            "_dom_classes": [],
            "_model_module": "@jupyter-widgets/controls",
            "_model_module_version": "1.5.0",
            "_model_name": "HTMLModel",
            "_view_count": null,
            "_view_module": "@jupyter-widgets/controls",
            "_view_module_version": "1.5.0",
            "_view_name": "HTMLView",
            "description": "",
            "description_tooltip": null,
            "layout": "IPY_MODEL_e2363660ce0844caae89edb106bb3e89",
            "placeholder": "​",
            "style": "IPY_MODEL_ec212a49005141f784219fce9f31d47a",
            "value": "config.json: 100%"
          }
        },
        "5a02c8c495d349acbdbed71f386068a2": {
          "model_module": "@jupyter-widgets/controls",
          "model_name": "FloatProgressModel",
          "model_module_version": "1.5.0",
          "state": {
            "_dom_classes": [],
            "_model_module": "@jupyter-widgets/controls",
            "_model_module_version": "1.5.0",
            "_model_name": "FloatProgressModel",
            "_view_count": null,
            "_view_module": "@jupyter-widgets/controls",
            "_view_module_version": "1.5.0",
            "_view_name": "ProgressView",
            "bar_style": "success",
            "description": "",
            "description_tooltip": null,
            "layout": "IPY_MODEL_14f365e25a3149d18f7f1868e94883ea",
            "max": 69665,
            "min": 0,
            "orientation": "horizontal",
            "style": "IPY_MODEL_c6506c0c58584866b977d4a5e937374a",
            "value": 69665
          }
        },
        "8873d490ef7b4b05a2216d6c3a736743": {
          "model_module": "@jupyter-widgets/controls",
          "model_name": "HTMLModel",
          "model_module_version": "1.5.0",
          "state": {
            "_dom_classes": [],
            "_model_module": "@jupyter-widgets/controls",
            "_model_module_version": "1.5.0",
            "_model_name": "HTMLModel",
            "_view_count": null,
            "_view_module": "@jupyter-widgets/controls",
            "_view_module_version": "1.5.0",
            "_view_name": "HTMLView",
            "description": "",
            "description_tooltip": null,
            "layout": "IPY_MODEL_1e78b69eadbf49e7afb058c83eb53f1d",
            "placeholder": "​",
            "style": "IPY_MODEL_e48ab917d6764b76a2c802506cfe3893",
            "value": " 69.7k/69.7k [00:00&lt;00:00, 2.44MB/s]"
          }
        },
        "27c0fe06e794465ea46db700d36a185f": {
          "model_module": "@jupyter-widgets/base",
          "model_name": "LayoutModel",
          "model_module_version": "1.2.0",
          "state": {
            "_model_module": "@jupyter-widgets/base",
            "_model_module_version": "1.2.0",
            "_model_name": "LayoutModel",
            "_view_count": null,
            "_view_module": "@jupyter-widgets/base",
            "_view_module_version": "1.2.0",
            "_view_name": "LayoutView",
            "align_content": null,
            "align_items": null,
            "align_self": null,
            "border": null,
            "bottom": null,
            "display": null,
            "flex": null,
            "flex_flow": null,
            "grid_area": null,
            "grid_auto_columns": null,
            "grid_auto_flow": null,
            "grid_auto_rows": null,
            "grid_column": null,
            "grid_gap": null,
            "grid_row": null,
            "grid_template_areas": null,
            "grid_template_columns": null,
            "grid_template_rows": null,
            "height": null,
            "justify_content": null,
            "justify_items": null,
            "left": null,
            "margin": null,
            "max_height": null,
            "max_width": null,
            "min_height": null,
            "min_width": null,
            "object_fit": null,
            "object_position": null,
            "order": null,
            "overflow": null,
            "overflow_x": null,
            "overflow_y": null,
            "padding": null,
            "right": null,
            "top": null,
            "visibility": null,
            "width": null
          }
        },
        "e2363660ce0844caae89edb106bb3e89": {
          "model_module": "@jupyter-widgets/base",
          "model_name": "LayoutModel",
          "model_module_version": "1.2.0",
          "state": {
            "_model_module": "@jupyter-widgets/base",
            "_model_module_version": "1.2.0",
            "_model_name": "LayoutModel",
            "_view_count": null,
            "_view_module": "@jupyter-widgets/base",
            "_view_module_version": "1.2.0",
            "_view_name": "LayoutView",
            "align_content": null,
            "align_items": null,
            "align_self": null,
            "border": null,
            "bottom": null,
            "display": null,
            "flex": null,
            "flex_flow": null,
            "grid_area": null,
            "grid_auto_columns": null,
            "grid_auto_flow": null,
            "grid_auto_rows": null,
            "grid_column": null,
            "grid_gap": null,
            "grid_row": null,
            "grid_template_areas": null,
            "grid_template_columns": null,
            "grid_template_rows": null,
            "height": null,
            "justify_content": null,
            "justify_items": null,
            "left": null,
            "margin": null,
            "max_height": null,
            "max_width": null,
            "min_height": null,
            "min_width": null,
            "object_fit": null,
            "object_position": null,
            "order": null,
            "overflow": null,
            "overflow_x": null,
            "overflow_y": null,
            "padding": null,
            "right": null,
            "top": null,
            "visibility": null,
            "width": null
          }
        },
        "ec212a49005141f784219fce9f31d47a": {
          "model_module": "@jupyter-widgets/controls",
          "model_name": "DescriptionStyleModel",
          "model_module_version": "1.5.0",
          "state": {
            "_model_module": "@jupyter-widgets/controls",
            "_model_module_version": "1.5.0",
            "_model_name": "DescriptionStyleModel",
            "_view_count": null,
            "_view_module": "@jupyter-widgets/base",
            "_view_module_version": "1.2.0",
            "_view_name": "StyleView",
            "description_width": ""
          }
        },
        "14f365e25a3149d18f7f1868e94883ea": {
          "model_module": "@jupyter-widgets/base",
          "model_name": "LayoutModel",
          "model_module_version": "1.2.0",
          "state": {
            "_model_module": "@jupyter-widgets/base",
            "_model_module_version": "1.2.0",
            "_model_name": "LayoutModel",
            "_view_count": null,
            "_view_module": "@jupyter-widgets/base",
            "_view_module_version": "1.2.0",
            "_view_name": "LayoutView",
            "align_content": null,
            "align_items": null,
            "align_self": null,
            "border": null,
            "bottom": null,
            "display": null,
            "flex": null,
            "flex_flow": null,
            "grid_area": null,
            "grid_auto_columns": null,
            "grid_auto_flow": null,
            "grid_auto_rows": null,
            "grid_column": null,
            "grid_gap": null,
            "grid_row": null,
            "grid_template_areas": null,
            "grid_template_columns": null,
            "grid_template_rows": null,
            "height": null,
            "justify_content": null,
            "justify_items": null,
            "left": null,
            "margin": null,
            "max_height": null,
            "max_width": null,
            "min_height": null,
            "min_width": null,
            "object_fit": null,
            "object_position": null,
            "order": null,
            "overflow": null,
            "overflow_x": null,
            "overflow_y": null,
            "padding": null,
            "right": null,
            "top": null,
            "visibility": null,
            "width": null
          }
        },
        "c6506c0c58584866b977d4a5e937374a": {
          "model_module": "@jupyter-widgets/controls",
          "model_name": "ProgressStyleModel",
          "model_module_version": "1.5.0",
          "state": {
            "_model_module": "@jupyter-widgets/controls",
            "_model_module_version": "1.5.0",
            "_model_name": "ProgressStyleModel",
            "_view_count": null,
            "_view_module": "@jupyter-widgets/base",
            "_view_module_version": "1.2.0",
            "_view_name": "StyleView",
            "bar_color": null,
            "description_width": ""
          }
        },
        "1e78b69eadbf49e7afb058c83eb53f1d": {
          "model_module": "@jupyter-widgets/base",
          "model_name": "LayoutModel",
          "model_module_version": "1.2.0",
          "state": {
            "_model_module": "@jupyter-widgets/base",
            "_model_module_version": "1.2.0",
            "_model_name": "LayoutModel",
            "_view_count": null,
            "_view_module": "@jupyter-widgets/base",
            "_view_module_version": "1.2.0",
            "_view_name": "LayoutView",
            "align_content": null,
            "align_items": null,
            "align_self": null,
            "border": null,
            "bottom": null,
            "display": null,
            "flex": null,
            "flex_flow": null,
            "grid_area": null,
            "grid_auto_columns": null,
            "grid_auto_flow": null,
            "grid_auto_rows": null,
            "grid_column": null,
            "grid_gap": null,
            "grid_row": null,
            "grid_template_areas": null,
            "grid_template_columns": null,
            "grid_template_rows": null,
            "height": null,
            "justify_content": null,
            "justify_items": null,
            "left": null,
            "margin": null,
            "max_height": null,
            "max_width": null,
            "min_height": null,
            "min_width": null,
            "object_fit": null,
            "object_position": null,
            "order": null,
            "overflow": null,
            "overflow_x": null,
            "overflow_y": null,
            "padding": null,
            "right": null,
            "top": null,
            "visibility": null,
            "width": null
          }
        },
        "e48ab917d6764b76a2c802506cfe3893": {
          "model_module": "@jupyter-widgets/controls",
          "model_name": "DescriptionStyleModel",
          "model_module_version": "1.5.0",
          "state": {
            "_model_module": "@jupyter-widgets/controls",
            "_model_module_version": "1.5.0",
            "_model_name": "DescriptionStyleModel",
            "_view_count": null,
            "_view_module": "@jupyter-widgets/base",
            "_view_module_version": "1.2.0",
            "_view_name": "StyleView",
            "description_width": ""
          }
        },
        "42b73a1ca44e4b43ad87cd6d62100930": {
          "model_module": "@jupyter-widgets/controls",
          "model_name": "HBoxModel",
          "model_module_version": "1.5.0",
          "state": {
            "_dom_classes": [],
            "_model_module": "@jupyter-widgets/controls",
            "_model_module_version": "1.5.0",
            "_model_name": "HBoxModel",
            "_view_count": null,
            "_view_module": "@jupyter-widgets/controls",
            "_view_module_version": "1.5.0",
            "_view_name": "HBoxView",
            "box_style": "",
            "children": [
              "IPY_MODEL_f56a1935c1914499a4c366656420a4db",
              "IPY_MODEL_415c790cd87746d88e7a35ca9b55d57d",
              "IPY_MODEL_52ab530dff954d64bf12c9a76a81b7a2"
            ],
            "layout": "IPY_MODEL_9e6336cf6ab442c29d4c390f3783e11a"
          }
        },
        "f56a1935c1914499a4c366656420a4db": {
          "model_module": "@jupyter-widgets/controls",
          "model_name": "HTMLModel",
          "model_module_version": "1.5.0",
          "state": {
            "_dom_classes": [],
            "_model_module": "@jupyter-widgets/controls",
            "_model_module_version": "1.5.0",
            "_model_name": "HTMLModel",
            "_view_count": null,
            "_view_module": "@jupyter-widgets/controls",
            "_view_module_version": "1.5.0",
            "_view_name": "HTMLView",
            "description": "",
            "description_tooltip": null,
            "layout": "IPY_MODEL_9718055c07744f6fbce2d25de780b329",
            "placeholder": "​",
            "style": "IPY_MODEL_3833db9291c04948b45e1ff6070fbaca",
            "value": "model.safetensors: 100%"
          }
        },
        "415c790cd87746d88e7a35ca9b55d57d": {
          "model_module": "@jupyter-widgets/controls",
          "model_name": "FloatProgressModel",
          "model_module_version": "1.5.0",
          "state": {
            "_dom_classes": [],
            "_model_module": "@jupyter-widgets/controls",
            "_model_module_version": "1.5.0",
            "_model_name": "FloatProgressModel",
            "_view_count": null,
            "_view_module": "@jupyter-widgets/controls",
            "_view_module_version": "1.5.0",
            "_view_name": "ProgressView",
            "bar_style": "success",
            "description": "",
            "description_tooltip": null,
            "layout": "IPY_MODEL_3d07f9e1196a447a980c37c920f443e9",
            "max": 346293852,
            "min": 0,
            "orientation": "horizontal",
            "style": "IPY_MODEL_b0550a7f0c1d488082ab273a04bdeb11",
            "value": 346293852
          }
        },
        "52ab530dff954d64bf12c9a76a81b7a2": {
          "model_module": "@jupyter-widgets/controls",
          "model_name": "HTMLModel",
          "model_module_version": "1.5.0",
          "state": {
            "_dom_classes": [],
            "_model_module": "@jupyter-widgets/controls",
            "_model_module_version": "1.5.0",
            "_model_name": "HTMLModel",
            "_view_count": null,
            "_view_module": "@jupyter-widgets/controls",
            "_view_module_version": "1.5.0",
            "_view_name": "HTMLView",
            "description": "",
            "description_tooltip": null,
            "layout": "IPY_MODEL_61b54af65b3e4673bf8bdaf7ac664c9b",
            "placeholder": "​",
            "style": "IPY_MODEL_7833458623964e44a4ae5ef63a02f390",
            "value": " 346M/346M [00:03&lt;00:00, 97.4MB/s]"
          }
        },
        "9e6336cf6ab442c29d4c390f3783e11a": {
          "model_module": "@jupyter-widgets/base",
          "model_name": "LayoutModel",
          "model_module_version": "1.2.0",
          "state": {
            "_model_module": "@jupyter-widgets/base",
            "_model_module_version": "1.2.0",
            "_model_name": "LayoutModel",
            "_view_count": null,
            "_view_module": "@jupyter-widgets/base",
            "_view_module_version": "1.2.0",
            "_view_name": "LayoutView",
            "align_content": null,
            "align_items": null,
            "align_self": null,
            "border": null,
            "bottom": null,
            "display": null,
            "flex": null,
            "flex_flow": null,
            "grid_area": null,
            "grid_auto_columns": null,
            "grid_auto_flow": null,
            "grid_auto_rows": null,
            "grid_column": null,
            "grid_gap": null,
            "grid_row": null,
            "grid_template_areas": null,
            "grid_template_columns": null,
            "grid_template_rows": null,
            "height": null,
            "justify_content": null,
            "justify_items": null,
            "left": null,
            "margin": null,
            "max_height": null,
            "max_width": null,
            "min_height": null,
            "min_width": null,
            "object_fit": null,
            "object_position": null,
            "order": null,
            "overflow": null,
            "overflow_x": null,
            "overflow_y": null,
            "padding": null,
            "right": null,
            "top": null,
            "visibility": null,
            "width": null
          }
        },
        "9718055c07744f6fbce2d25de780b329": {
          "model_module": "@jupyter-widgets/base",
          "model_name": "LayoutModel",
          "model_module_version": "1.2.0",
          "state": {
            "_model_module": "@jupyter-widgets/base",
            "_model_module_version": "1.2.0",
            "_model_name": "LayoutModel",
            "_view_count": null,
            "_view_module": "@jupyter-widgets/base",
            "_view_module_version": "1.2.0",
            "_view_name": "LayoutView",
            "align_content": null,
            "align_items": null,
            "align_self": null,
            "border": null,
            "bottom": null,
            "display": null,
            "flex": null,
            "flex_flow": null,
            "grid_area": null,
            "grid_auto_columns": null,
            "grid_auto_flow": null,
            "grid_auto_rows": null,
            "grid_column": null,
            "grid_gap": null,
            "grid_row": null,
            "grid_template_areas": null,
            "grid_template_columns": null,
            "grid_template_rows": null,
            "height": null,
            "justify_content": null,
            "justify_items": null,
            "left": null,
            "margin": null,
            "max_height": null,
            "max_width": null,
            "min_height": null,
            "min_width": null,
            "object_fit": null,
            "object_position": null,
            "order": null,
            "overflow": null,
            "overflow_x": null,
            "overflow_y": null,
            "padding": null,
            "right": null,
            "top": null,
            "visibility": null,
            "width": null
          }
        },
        "3833db9291c04948b45e1ff6070fbaca": {
          "model_module": "@jupyter-widgets/controls",
          "model_name": "DescriptionStyleModel",
          "model_module_version": "1.5.0",
          "state": {
            "_model_module": "@jupyter-widgets/controls",
            "_model_module_version": "1.5.0",
            "_model_name": "DescriptionStyleModel",
            "_view_count": null,
            "_view_module": "@jupyter-widgets/base",
            "_view_module_version": "1.2.0",
            "_view_name": "StyleView",
            "description_width": ""
          }
        },
        "3d07f9e1196a447a980c37c920f443e9": {
          "model_module": "@jupyter-widgets/base",
          "model_name": "LayoutModel",
          "model_module_version": "1.2.0",
          "state": {
            "_model_module": "@jupyter-widgets/base",
            "_model_module_version": "1.2.0",
            "_model_name": "LayoutModel",
            "_view_count": null,
            "_view_module": "@jupyter-widgets/base",
            "_view_module_version": "1.2.0",
            "_view_name": "LayoutView",
            "align_content": null,
            "align_items": null,
            "align_self": null,
            "border": null,
            "bottom": null,
            "display": null,
            "flex": null,
            "flex_flow": null,
            "grid_area": null,
            "grid_auto_columns": null,
            "grid_auto_flow": null,
            "grid_auto_rows": null,
            "grid_column": null,
            "grid_gap": null,
            "grid_row": null,
            "grid_template_areas": null,
            "grid_template_columns": null,
            "grid_template_rows": null,
            "height": null,
            "justify_content": null,
            "justify_items": null,
            "left": null,
            "margin": null,
            "max_height": null,
            "max_width": null,
            "min_height": null,
            "min_width": null,
            "object_fit": null,
            "object_position": null,
            "order": null,
            "overflow": null,
            "overflow_x": null,
            "overflow_y": null,
            "padding": null,
            "right": null,
            "top": null,
            "visibility": null,
            "width": null
          }
        },
        "b0550a7f0c1d488082ab273a04bdeb11": {
          "model_module": "@jupyter-widgets/controls",
          "model_name": "ProgressStyleModel",
          "model_module_version": "1.5.0",
          "state": {
            "_model_module": "@jupyter-widgets/controls",
            "_model_module_version": "1.5.0",
            "_model_name": "ProgressStyleModel",
            "_view_count": null,
            "_view_module": "@jupyter-widgets/base",
            "_view_module_version": "1.2.0",
            "_view_name": "StyleView",
            "bar_color": null,
            "description_width": ""
          }
        },
        "61b54af65b3e4673bf8bdaf7ac664c9b": {
          "model_module": "@jupyter-widgets/base",
          "model_name": "LayoutModel",
          "model_module_version": "1.2.0",
          "state": {
            "_model_module": "@jupyter-widgets/base",
            "_model_module_version": "1.2.0",
            "_model_name": "LayoutModel",
            "_view_count": null,
            "_view_module": "@jupyter-widgets/base",
            "_view_module_version": "1.2.0",
            "_view_name": "LayoutView",
            "align_content": null,
            "align_items": null,
            "align_self": null,
            "border": null,
            "bottom": null,
            "display": null,
            "flex": null,
            "flex_flow": null,
            "grid_area": null,
            "grid_auto_columns": null,
            "grid_auto_flow": null,
            "grid_auto_rows": null,
            "grid_column": null,
            "grid_gap": null,
            "grid_row": null,
            "grid_template_areas": null,
            "grid_template_columns": null,
            "grid_template_rows": null,
            "height": null,
            "justify_content": null,
            "justify_items": null,
            "left": null,
            "margin": null,
            "max_height": null,
            "max_width": null,
            "min_height": null,
            "min_width": null,
            "object_fit": null,
            "object_position": null,
            "order": null,
            "overflow": null,
            "overflow_x": null,
            "overflow_y": null,
            "padding": null,
            "right": null,
            "top": null,
            "visibility": null,
            "width": null
          }
        },
        "7833458623964e44a4ae5ef63a02f390": {
          "model_module": "@jupyter-widgets/controls",
          "model_name": "DescriptionStyleModel",
          "model_module_version": "1.5.0",
          "state": {
            "_model_module": "@jupyter-widgets/controls",
            "_model_module_version": "1.5.0",
            "_model_name": "DescriptionStyleModel",
            "_view_count": null,
            "_view_module": "@jupyter-widgets/base",
            "_view_module_version": "1.2.0",
            "_view_name": "StyleView",
            "description_width": ""
          }
        },
        "4956ab3de1a8489c8994acee7339c457": {
          "model_module": "@jupyter-widgets/controls",
          "model_name": "HBoxModel",
          "model_module_version": "1.5.0",
          "state": {
            "_dom_classes": [],
            "_model_module": "@jupyter-widgets/controls",
            "_model_module_version": "1.5.0",
            "_model_name": "HBoxModel",
            "_view_count": null,
            "_view_module": "@jupyter-widgets/controls",
            "_view_module_version": "1.5.0",
            "_view_name": "HBoxView",
            "box_style": "",
            "children": [
              "IPY_MODEL_d4a8fc32e0e14faaad573231bd038ce5",
              "IPY_MODEL_3d2bc53faaac484b80746df732076dcc",
              "IPY_MODEL_da81222f3f4540a28a708b1ccff02775"
            ],
            "layout": "IPY_MODEL_b222f50eef274a7aa70e00298d138357"
          }
        },
        "d4a8fc32e0e14faaad573231bd038ce5": {
          "model_module": "@jupyter-widgets/controls",
          "model_name": "HTMLModel",
          "model_module_version": "1.5.0",
          "state": {
            "_dom_classes": [],
            "_model_module": "@jupyter-widgets/controls",
            "_model_module_version": "1.5.0",
            "_model_name": "HTMLModel",
            "_view_count": null,
            "_view_module": "@jupyter-widgets/controls",
            "_view_module_version": "1.5.0",
            "_view_name": "HTMLView",
            "description": "",
            "description_tooltip": null,
            "layout": "IPY_MODEL_147c892cdc50455ea466493abf84369c",
            "placeholder": "​",
            "style": "IPY_MODEL_32aea6bb7516481487cd9f41f621f66d",
            "value": "preprocessor_config.json: 100%"
          }
        },
        "3d2bc53faaac484b80746df732076dcc": {
          "model_module": "@jupyter-widgets/controls",
          "model_name": "FloatProgressModel",
          "model_module_version": "1.5.0",
          "state": {
            "_dom_classes": [],
            "_model_module": "@jupyter-widgets/controls",
            "_model_module_version": "1.5.0",
            "_model_name": "FloatProgressModel",
            "_view_count": null,
            "_view_module": "@jupyter-widgets/controls",
            "_view_module_version": "1.5.0",
            "_view_name": "ProgressView",
            "bar_style": "success",
            "description": "",
            "description_tooltip": null,
            "layout": "IPY_MODEL_6cbc4c4092094336b8f78a1bbe1450ad",
            "max": 160,
            "min": 0,
            "orientation": "horizontal",
            "style": "IPY_MODEL_4405ef1ddecb465ab8454e0cc2698f5e",
            "value": 160
          }
        },
        "da81222f3f4540a28a708b1ccff02775": {
          "model_module": "@jupyter-widgets/controls",
          "model_name": "HTMLModel",
          "model_module_version": "1.5.0",
          "state": {
            "_dom_classes": [],
            "_model_module": "@jupyter-widgets/controls",
            "_model_module_version": "1.5.0",
            "_model_name": "HTMLModel",
            "_view_count": null,
            "_view_module": "@jupyter-widgets/controls",
            "_view_module_version": "1.5.0",
            "_view_name": "HTMLView",
            "description": "",
            "description_tooltip": null,
            "layout": "IPY_MODEL_92c99cc35c2947b4a9e807f97faea31a",
            "placeholder": "​",
            "style": "IPY_MODEL_0bf05350a41f43adb0a5cc63682c84d2",
            "value": " 160/160 [00:00&lt;00:00, 4.23kB/s]"
          }
        },
        "b222f50eef274a7aa70e00298d138357": {
          "model_module": "@jupyter-widgets/base",
          "model_name": "LayoutModel",
          "model_module_version": "1.2.0",
          "state": {
            "_model_module": "@jupyter-widgets/base",
            "_model_module_version": "1.2.0",
            "_model_name": "LayoutModel",
            "_view_count": null,
            "_view_module": "@jupyter-widgets/base",
            "_view_module_version": "1.2.0",
            "_view_name": "LayoutView",
            "align_content": null,
            "align_items": null,
            "align_self": null,
            "border": null,
            "bottom": null,
            "display": null,
            "flex": null,
            "flex_flow": null,
            "grid_area": null,
            "grid_auto_columns": null,
            "grid_auto_flow": null,
            "grid_auto_rows": null,
            "grid_column": null,
            "grid_gap": null,
            "grid_row": null,
            "grid_template_areas": null,
            "grid_template_columns": null,
            "grid_template_rows": null,
            "height": null,
            "justify_content": null,
            "justify_items": null,
            "left": null,
            "margin": null,
            "max_height": null,
            "max_width": null,
            "min_height": null,
            "min_width": null,
            "object_fit": null,
            "object_position": null,
            "order": null,
            "overflow": null,
            "overflow_x": null,
            "overflow_y": null,
            "padding": null,
            "right": null,
            "top": null,
            "visibility": null,
            "width": null
          }
        },
        "147c892cdc50455ea466493abf84369c": {
          "model_module": "@jupyter-widgets/base",
          "model_name": "LayoutModel",
          "model_module_version": "1.2.0",
          "state": {
            "_model_module": "@jupyter-widgets/base",
            "_model_module_version": "1.2.0",
            "_model_name": "LayoutModel",
            "_view_count": null,
            "_view_module": "@jupyter-widgets/base",
            "_view_module_version": "1.2.0",
            "_view_name": "LayoutView",
            "align_content": null,
            "align_items": null,
            "align_self": null,
            "border": null,
            "bottom": null,
            "display": null,
            "flex": null,
            "flex_flow": null,
            "grid_area": null,
            "grid_auto_columns": null,
            "grid_auto_flow": null,
            "grid_auto_rows": null,
            "grid_column": null,
            "grid_gap": null,
            "grid_row": null,
            "grid_template_areas": null,
            "grid_template_columns": null,
            "grid_template_rows": null,
            "height": null,
            "justify_content": null,
            "justify_items": null,
            "left": null,
            "margin": null,
            "max_height": null,
            "max_width": null,
            "min_height": null,
            "min_width": null,
            "object_fit": null,
            "object_position": null,
            "order": null,
            "overflow": null,
            "overflow_x": null,
            "overflow_y": null,
            "padding": null,
            "right": null,
            "top": null,
            "visibility": null,
            "width": null
          }
        },
        "32aea6bb7516481487cd9f41f621f66d": {
          "model_module": "@jupyter-widgets/controls",
          "model_name": "DescriptionStyleModel",
          "model_module_version": "1.5.0",
          "state": {
            "_model_module": "@jupyter-widgets/controls",
            "_model_module_version": "1.5.0",
            "_model_name": "DescriptionStyleModel",
            "_view_count": null,
            "_view_module": "@jupyter-widgets/base",
            "_view_module_version": "1.2.0",
            "_view_name": "StyleView",
            "description_width": ""
          }
        },
        "6cbc4c4092094336b8f78a1bbe1450ad": {
          "model_module": "@jupyter-widgets/base",
          "model_name": "LayoutModel",
          "model_module_version": "1.2.0",
          "state": {
            "_model_module": "@jupyter-widgets/base",
            "_model_module_version": "1.2.0",
            "_model_name": "LayoutModel",
            "_view_count": null,
            "_view_module": "@jupyter-widgets/base",
            "_view_module_version": "1.2.0",
            "_view_name": "LayoutView",
            "align_content": null,
            "align_items": null,
            "align_self": null,
            "border": null,
            "bottom": null,
            "display": null,
            "flex": null,
            "flex_flow": null,
            "grid_area": null,
            "grid_auto_columns": null,
            "grid_auto_flow": null,
            "grid_auto_rows": null,
            "grid_column": null,
            "grid_gap": null,
            "grid_row": null,
            "grid_template_areas": null,
            "grid_template_columns": null,
            "grid_template_rows": null,
            "height": null,
            "justify_content": null,
            "justify_items": null,
            "left": null,
            "margin": null,
            "max_height": null,
            "max_width": null,
            "min_height": null,
            "min_width": null,
            "object_fit": null,
            "object_position": null,
            "order": null,
            "overflow": null,
            "overflow_x": null,
            "overflow_y": null,
            "padding": null,
            "right": null,
            "top": null,
            "visibility": null,
            "width": null
          }
        },
        "4405ef1ddecb465ab8454e0cc2698f5e": {
          "model_module": "@jupyter-widgets/controls",
          "model_name": "ProgressStyleModel",
          "model_module_version": "1.5.0",
          "state": {
            "_model_module": "@jupyter-widgets/controls",
            "_model_module_version": "1.5.0",
            "_model_name": "ProgressStyleModel",
            "_view_count": null,
            "_view_module": "@jupyter-widgets/base",
            "_view_module_version": "1.2.0",
            "_view_name": "StyleView",
            "bar_color": null,
            "description_width": ""
          }
        },
        "92c99cc35c2947b4a9e807f97faea31a": {
          "model_module": "@jupyter-widgets/base",
          "model_name": "LayoutModel",
          "model_module_version": "1.2.0",
          "state": {
            "_model_module": "@jupyter-widgets/base",
            "_model_module_version": "1.2.0",
            "_model_name": "LayoutModel",
            "_view_count": null,
            "_view_module": "@jupyter-widgets/base",
            "_view_module_version": "1.2.0",
            "_view_name": "LayoutView",
            "align_content": null,
            "align_items": null,
            "align_self": null,
            "border": null,
            "bottom": null,
            "display": null,
            "flex": null,
            "flex_flow": null,
            "grid_area": null,
            "grid_auto_columns": null,
            "grid_auto_flow": null,
            "grid_auto_rows": null,
            "grid_column": null,
            "grid_gap": null,
            "grid_row": null,
            "grid_template_areas": null,
            "grid_template_columns": null,
            "grid_template_rows": null,
            "height": null,
            "justify_content": null,
            "justify_items": null,
            "left": null,
            "margin": null,
            "max_height": null,
            "max_width": null,
            "min_height": null,
            "min_width": null,
            "object_fit": null,
            "object_position": null,
            "order": null,
            "overflow": null,
            "overflow_x": null,
            "overflow_y": null,
            "padding": null,
            "right": null,
            "top": null,
            "visibility": null,
            "width": null
          }
        },
        "0bf05350a41f43adb0a5cc63682c84d2": {
          "model_module": "@jupyter-widgets/controls",
          "model_name": "DescriptionStyleModel",
          "model_module_version": "1.5.0",
          "state": {
            "_model_module": "@jupyter-widgets/controls",
            "_model_module_version": "1.5.0",
            "_model_name": "DescriptionStyleModel",
            "_view_count": null,
            "_view_module": "@jupyter-widgets/base",
            "_view_module_version": "1.2.0",
            "_view_name": "StyleView",
            "description_width": ""
          }
        }
      }
    }
  },
  "nbformat": 4,
  "nbformat_minor": 0
}